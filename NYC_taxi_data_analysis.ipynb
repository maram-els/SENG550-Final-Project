{
  "cells": [
    {
      "cell_type": "markdown",
      "metadata": {
        "cell_id": "9d72028f2ed14557b551bc04780c9bbe",
        "deepnote_app_coordinates": {
          "h": 5,
          "w": 12,
          "x": 0,
          "y": 1
        },
        "deepnote_cell_type": "text-cell-h1",
        "formattedRanges": [],
        "is_collapsed": false,
        "tags": [],
        "id": "jE72vMoVHTs5"
      },
      "source": [
        "# SENG 550: NYC Taxi Data Analysis\n",
        "\n",
        "\n",
        "**Contributors:**\n",
        "* Maram Elsayed\t\t(30071200)\n",
        "* Mathew Pelletier \t\t(10103415)\n",
        "* Marco Arias \t\t\t(30079108)\n",
        "* Alexandra Glodzinski \t(30038541)\n",
        "\n"
      ]
    },
    {
      "cell_type": "markdown",
      "source": [
        "## Environment Setup"
      ],
      "metadata": {
        "id": "4eZJ5hksHnlZ"
      }
    },
    {
      "cell_type": "markdown",
      "source": [
        "**Project library imports**"
      ],
      "metadata": {
        "id": "GgiLutwvHVM6"
      }
    },
    {
      "cell_type": "code",
      "execution_count": null,
      "metadata": {
        "cell_id": "247934ff8ed54f08b7f95204d1af5a4b",
        "deepnote_app_coordinates": {
          "h": 5,
          "w": 12,
          "x": 0,
          "y": 7
        },
        "deepnote_cell_type": "code",
        "deepnote_to_be_reexecuted": false,
        "execution_millis": 3145,
        "execution_start": 1671151884813,
        "source_hash": "b941fece",
        "tags": [],
        "id": "a3IsDC-gHTs8"
      },
      "outputs": [],
      "source": [
        "import os\n",
        "import pandas as pd\n",
        "import numpy as np\n",
        "import matplotlib.pyplot as plt\n",
        "import random\n",
        "\n",
        "from pyspark import SparkConf, SparkContext\n",
        "from pyspark.sql import SparkSession, SQLContext\n",
        "from pyspark.sql.functions import *\n",
        "\n",
        "# Models Libraries\n",
        "from sklearn.model_selection import train_test_split\n",
        "from sklearn.linear_model import LinearRegression\n",
        "from sklearn.linear_model import LogisticRegression\n",
        "from sklearn.metrics import mean_absolute_error,mean_squared_error,r2_score\n",
        "from sklearn.preprocessing import StandardScaler\n",
        "from sklearn.metrics import confusion_matrix, ConfusionMatrixDisplay\n"
      ]
    },
    {
      "cell_type": "markdown",
      "source": [
        "**Building Spark Session**"
      ],
      "metadata": {
        "id": "BKQSlvOGHcAE"
      }
    },
    {
      "cell_type": "code",
      "execution_count": null,
      "metadata": {
        "cell_id": "e2d980eb7b92417ab81ab369eb04566b",
        "deepnote_app_coordinates": {
          "h": 5,
          "w": 12,
          "x": 0,
          "y": 13
        },
        "deepnote_cell_type": "code",
        "deepnote_to_be_reexecuted": false,
        "execution_millis": 11823,
        "execution_start": 1671151887960,
        "source_hash": "3fa25cdb",
        "tags": [],
        "id": "sdcQI-FgHTs-",
        "outputId": "1abe144a-0212-4735-ee91-eeedac5dab06"
      },
      "outputs": [
        {
          "data": {
            "text/html": [
              "\n",
              "            <div>\n",
              "                <p><b>SparkSession - in-memory</b></p>\n",
              "                \n",
              "        <div>\n",
              "            <p><b>SparkContext</b></p>\n",
              "\n",
              "            <p><a href=\"http://86afd76db310:4040\">Spark UI</a></p>\n",
              "\n",
              "            <dl>\n",
              "              <dt>Version</dt>\n",
              "                <dd><code>v3.3.1</code></dd>\n",
              "              <dt>Master</dt>\n",
              "                <dd><code>local</code></dd>\n",
              "              <dt>AppName</dt>\n",
              "                <dd><code>Test</code></dd>\n",
              "            </dl>\n",
              "        </div>\n",
              "        \n",
              "            </div>\n",
              "        "
            ],
            "text/plain": [
              "<pyspark.sql.session.SparkSession at 0xffff65f47490>"
            ]
          },
          "execution_count": 2,
          "metadata": {},
          "output_type": "execute_result"
        }
      ],
      "source": [
        "spark = SparkSession.builder\\\n",
        "        .master(\"local\")\\\n",
        "        .appName(\"Test\")\\\n",
        "        .getOrCreate()\n",
        "spark"
      ]
    },
    {
      "cell_type": "markdown",
      "source": [
        "**Defining Spark Context**"
      ],
      "metadata": {
        "id": "C3y_haviHjzE"
      }
    },
    {
      "cell_type": "code",
      "execution_count": null,
      "metadata": {
        "cell_id": "aa4430fd8cb4435e87b3a72845e9fda6",
        "deepnote_app_coordinates": {
          "h": 5,
          "w": 12,
          "x": 0,
          "y": 19
        },
        "deepnote_cell_type": "code",
        "deepnote_to_be_reexecuted": false,
        "execution_millis": 18,
        "execution_start": 1671151899788,
        "source_hash": "9998c02",
        "tags": [],
        "id": "SqQBvzuJHTs_",
        "outputId": "a1a2df5e-e961-4c70-ebba-f213de1cac0a"
      },
      "outputs": [
        {
          "data": {
            "text/html": [
              "\n",
              "        <div>\n",
              "            <p><b>SparkContext</b></p>\n",
              "\n",
              "            <p><a href=\"http://86afd76db310:4040\">Spark UI</a></p>\n",
              "\n",
              "            <dl>\n",
              "              <dt>Version</dt>\n",
              "                <dd><code>v3.3.1</code></dd>\n",
              "              <dt>Master</dt>\n",
              "                <dd><code>local</code></dd>\n",
              "              <dt>AppName</dt>\n",
              "                <dd><code>Test</code></dd>\n",
              "            </dl>\n",
              "        </div>\n",
              "        "
            ],
            "text/plain": [
              "<SparkContext master=local appName=Test>"
            ]
          },
          "execution_count": 3,
          "metadata": {},
          "output_type": "execute_result"
        }
      ],
      "source": [
        "sc = spark.sparkContext\n",
        "sc"
      ]
    },
    {
      "cell_type": "markdown",
      "metadata": {
        "cell_id": "a1be6ed7422645e996a2aab8891f0566",
        "deepnote_app_coordinates": {
          "h": 5,
          "w": 12,
          "x": 0,
          "y": 70
        },
        "deepnote_cell_type": "text-cell-h2",
        "formattedRanges": [],
        "is_collapsed": false,
        "tags": [],
        "id": "PhQ8ZBz_HTtA"
      },
      "source": [
        "## Load and check the data"
      ]
    },
    {
      "cell_type": "code",
      "execution_count": null,
      "metadata": {
        "cell_id": "f95ae5d3e5934854ba0a0483c3bf546c",
        "deepnote_app_coordinates": {
          "h": 5,
          "w": 12,
          "x": 0,
          "y": 64
        },
        "deepnote_cell_type": "code",
        "deepnote_to_be_reexecuted": false,
        "execution_millis": 15272,
        "execution_start": 1671151901081,
        "source_hash": "2c7f17fb",
        "tags": [],
        "id": "rMBeMygqHTtA",
        "outputId": "bec65605-e90e-4cda-be46-7d1db004b948"
      },
      "outputs": [
        {
          "name": "stdout",
          "output_type": "stream",
          "text": [
            "root\n",
            " |-- medallion: string (nullable = true)\n",
            " |-- hack_license: string (nullable = true)\n",
            " |-- vendor_id: string (nullable = true)\n",
            " |-- rate_code: string (nullable = true)\n",
            " |-- store_and_fwd_flag: string (nullable = true)\n",
            " |-- pickup_datetime: string (nullable = true)\n",
            " |-- dropoff_datetime: string (nullable = true)\n",
            " |-- passenger_count: string (nullable = true)\n",
            " |-- trip_time_in_secs: string (nullable = true)\n",
            " |-- trip_distance: string (nullable = true)\n",
            " |-- pickup_longitude: string (nullable = true)\n",
            " |-- pickup_latitude: string (nullable = true)\n",
            " |-- dropoff_longitude: string (nullable = true)\n",
            " |-- dropoff_latitude: string (nullable = true)\n",
            "\n",
            "+--------------------+--------------------+---------+---------+------------------+-------------------+-------------------+---------------+-----------------+-------------+----------------+---------------+-----------------+----------------+\n",
            "|           medallion|        hack_license|vendor_id|rate_code|store_and_fwd_flag|    pickup_datetime|   dropoff_datetime|passenger_count|trip_time_in_secs|trip_distance|pickup_longitude|pickup_latitude|dropoff_longitude|dropoff_latitude|\n",
            "+--------------------+--------------------+---------+---------+------------------+-------------------+-------------------+---------------+-----------------+-------------+----------------+---------------+-----------------+----------------+\n",
            "|89D227B655E5C82AE...|BA96DE419E711691B...|      CMT|        1|                 N|2013-01-01 15:11:48|2013-01-01 15:18:10|              4|              382|         1.00|      -73.978165|      40.757977|       -73.989838|       40.751171|\n",
            "|0BD7C8F5BA12B88E0...|9FD8F69F0804BDB55...|      CMT|        1|                 N|2013-01-06 00:18:35|2013-01-06 00:22:54|              1|              259|         1.50|      -74.006683|      40.731781|       -73.994499|        40.75066|\n",
            "|0BD7C8F5BA12B88E0...|9FD8F69F0804BDB55...|      CMT|        1|                 N|2013-01-05 18:49:41|2013-01-05 18:54:23|              1|              282|         1.10|      -74.004707|       40.73777|       -74.009834|       40.726002|\n",
            "|DFD2202EE08F7A8DC...|51EE87E3205C985EF...|      CMT|        1|                 N|2013-01-07 23:54:15|2013-01-07 23:58:20|              2|              244|          .70|      -73.974602|      40.759945|       -73.984734|       40.759388|\n",
            "|DFD2202EE08F7A8DC...|51EE87E3205C985EF...|      CMT|        1|                 N|2013-01-07 23:25:03|2013-01-07 23:34:24|              1|              560|         2.10|       -73.97625|      40.748528|       -74.002586|       40.747868|\n",
            "+--------------------+--------------------+---------+---------+------------------+-------------------+-------------------+---------------+-----------------+-------------+----------------+---------------+-----------------+----------------+\n",
            "only showing top 5 rows\n",
            "\n",
            "root\n",
            " |-- medallion: string (nullable = true)\n",
            " |--  hack_license: string (nullable = true)\n",
            " |--  vendor_id: string (nullable = true)\n",
            " |--  pickup_datetime: string (nullable = true)\n",
            " |--  payment_type: string (nullable = true)\n",
            " |--  fare_amount: string (nullable = true)\n",
            " |--  surcharge: string (nullable = true)\n",
            " |--  mta_tax: string (nullable = true)\n",
            " |--  tip_amount: string (nullable = true)\n",
            " |--  tolls_amount: string (nullable = true)\n",
            " |--  total_amount: string (nullable = true)\n",
            "\n",
            "+--------------------+--------------------+----------+-------------------+-------------+------------+----------+--------+-----------+-------------+-------------+\n",
            "|           medallion|        hack_license| vendor_id|    pickup_datetime| payment_type| fare_amount| surcharge| mta_tax| tip_amount| tolls_amount| total_amount|\n",
            "+--------------------+--------------------+----------+-------------------+-------------+------------+----------+--------+-----------+-------------+-------------+\n",
            "|89D227B655E5C82AE...|BA96DE419E711691B...|       CMT|2013-01-01 15:11:48|          CSH|         6.5|         0|     0.5|          0|            0|            7|\n",
            "|0BD7C8F5BA12B88E0...|9FD8F69F0804BDB55...|       CMT|2013-01-06 00:18:35|          CSH|           6|       0.5|     0.5|          0|            0|            7|\n",
            "|0BD7C8F5BA12B88E0...|9FD8F69F0804BDB55...|       CMT|2013-01-05 18:49:41|          CSH|         5.5|         1|     0.5|          0|            0|            7|\n",
            "|DFD2202EE08F7A8DC...|51EE87E3205C985EF...|       CMT|2013-01-07 23:54:15|          CSH|           5|       0.5|     0.5|          0|            0|            6|\n",
            "|DFD2202EE08F7A8DC...|51EE87E3205C985EF...|       CMT|2013-01-07 23:25:03|          CSH|         9.5|       0.5|     0.5|          0|            0|         10.5|\n",
            "+--------------------+--------------------+----------+-------------------+-------------+------------+----------+--------+-----------+-------------+-------------+\n",
            "only showing top 5 rows\n",
            "\n"
          ]
        }
      ],
      "source": [
        "df = spark.read.option(\"header\",True) \\\n",
        "     .option(\"infer_schema\", True) \\\n",
        "     .csv(\"trip_data/trip_data_1.csv\")\n",
        "\n",
        "df1 = spark.read.option(\"header\",True) \\\n",
        "     .option(\"infer_schema\", True) \\\n",
        "     .csv(\"trip_data/trip_fare_1.csv\")\n",
        "\n",
        "df.printSchema()\n",
        "df.show(5)\n",
        "\n",
        "df1.printSchema()\n",
        "\n",
        "df1.show(5)"
      ]
    },
    {
      "cell_type": "markdown",
      "metadata": {
        "cell_id": "1a91b507d79d49b8afdc3f4d0e555b22",
        "deepnote_app_coordinates": {
          "h": 5,
          "w": 12,
          "x": 0,
          "y": 58
        },
        "deepnote_cell_type": "text-cell-h2",
        "formattedRanges": [],
        "is_collapsed": false,
        "tags": [],
        "id": "2Z70AyY0HTtB"
      },
      "source": [
        "## Preprocessing DataFrame"
      ]
    },
    {
      "cell_type": "markdown",
      "metadata": {
        "cell_id": "1c4d3677-61db-4e19-aac4-750a6bff195e",
        "deepnote_app_coordinates": {
          "h": 5,
          "w": 12,
          "x": 0,
          "y": 76
        },
        "deepnote_cell_type": "text-cell-h3",
        "formattedRanges": [],
        "is_collapsed": false,
        "tags": [],
        "id": "Fr8Z_Ek1HTtC"
      },
      "source": [
        "### (a) Removing unnecessary spaces from headers in df1 to match df\n",
        "We have two datasets that we're joining into one DataFrame, unfortunately the feature headers (Labels) don't match because of unnecessary spaces, we're removing those spaces in order to be able to join DataFrames smoothly."
      ]
    },
    {
      "cell_type": "code",
      "execution_count": null,
      "metadata": {
        "cell_id": "201ec6e2c5154c49a3afdacc37979c7d",
        "deepnote_app_coordinates": {
          "h": 5,
          "w": 12,
          "x": 0,
          "y": 37
        },
        "deepnote_cell_type": "code",
        "deepnote_to_be_reexecuted": false,
        "execution_millis": 464,
        "execution_start": 1671151916365,
        "source_hash": "759da519",
        "tags": [],
        "id": "YObfaGfAHTtC",
        "outputId": "a3773a95-c7fb-4129-8e5c-ce3f10ea4257"
      },
      "outputs": [
        {
          "name": "stdout",
          "output_type": "stream",
          "text": [
            "root\n",
            " |-- medallion: string (nullable = true)\n",
            " |-- hack_license: string (nullable = true)\n",
            " |-- vendor_id: string (nullable = true)\n",
            " |-- pickup_datetime: string (nullable = true)\n",
            " |-- payment_type: string (nullable = true)\n",
            " |-- fare_amount: string (nullable = true)\n",
            " |-- surcharge: string (nullable = true)\n",
            " |-- mta_tax: string (nullable = true)\n",
            " |-- tip_amount: string (nullable = true)\n",
            " |-- tolls_amount: string (nullable = true)\n",
            " |-- total_amount: string (nullable = true)\n",
            "\n"
          ]
        }
      ],
      "source": [
        "df1 = df1.withColumnRenamed(\" medallion\",\"medallion\") \\\n",
        "    .withColumnRenamed(\" hack_license\",\"hack_license\") \\\n",
        "    .withColumnRenamed(\" vendor_id\",\"vendor_id\") \\\n",
        "    .withColumnRenamed(\" pickup_datetime\",\"pickup_datetime\") \\\n",
        "    .withColumnRenamed(\" payment_type\",\"payment_type\") \\\n",
        "    .withColumnRenamed(\" fare_amount\",\"fare_amount\") \\\n",
        "    .withColumnRenamed(\" surcharge\",\"surcharge\") \\\n",
        "    .withColumnRenamed(\" mta_tax\",\"mta_tax\") \\\n",
        "    .withColumnRenamed(\" tip_amount\",\"tip_amount\") \\\n",
        "    .withColumnRenamed(\" tolls_amount\",\"tolls_amount\") \\\n",
        "    .withColumnRenamed(\" total_amount\",\"total_amount\") \\\n",
        "\n",
        "df1.printSchema()"
      ]
    },
    {
      "cell_type": "markdown",
      "metadata": {
        "cell_id": "c0fc4067bb8c4753ab490b6bf96ac39f",
        "deepnote_app_coordinates": {
          "h": 5,
          "w": 12,
          "x": 0,
          "y": 82
        },
        "deepnote_cell_type": "text-cell-h3",
        "formattedRanges": [
          {
            "fromCodePoint": 0,
            "marks": {
              "bold": true
            },
            "toCodePoint": 21,
            "type": "marks"
          }
        ],
        "is_collapsed": false,
        "tags": [],
        "id": "zl1_IwGmHTtD"
      },
      "source": [
        "### (b) Joining df1 to df"
      ]
    },
    {
      "cell_type": "markdown",
      "metadata": {
        "cell_id": "76f66bef-f530-4203-a60e-6cd4d71c2650",
        "deepnote_app_coordinates": {
          "h": 2,
          "w": 8,
          "x": 0,
          "y": 55
        },
        "deepnote_cell_type": "text-cell-p",
        "formattedRanges": [
          {
            "fromCodePoint": 0,
            "marks": {
              "bold": true
            },
            "toCodePoint": 137,
            "type": "marks"
          }
        ],
        "is_collapsed": false,
        "tags": [],
        "id": "4hMO1IjbHTtD"
      },
      "source": [
        "This step is joining data from both DataFrames by the following fields: 'medallion', 'pickup_datetime', 'hack_license', and 'vendor_id'."
      ]
    },
    {
      "cell_type": "code",
      "execution_count": null,
      "metadata": {
        "cell_id": "ae34dca8a6954a48a048a5165f090c88",
        "deepnote_app_coordinates": {
          "h": 5,
          "w": 12,
          "x": 0,
          "y": 43
        },
        "deepnote_cell_type": "code",
        "deepnote_to_be_reexecuted": false,
        "execution_millis": 307700,
        "execution_start": 1671151916838,
        "source_hash": "249f42f5",
        "tags": [],
        "id": "dGOnjyWNHTtD",
        "outputId": "af74cd98-c95a-4677-b9d4-89cac4320c40"
      },
      "outputs": [
        {
          "name": "stdout",
          "output_type": "stream",
          "text": [
            "+--------------------+-------------------+--------------------+---------+---------+------------------+-------------------+---------------+-----------------+-------------+----------------+---------------+-----------------+----------------+------------+-----------+---------+-------+----------+------------+------------+\n",
            "|           medallion|    pickup_datetime|        hack_license|vendor_id|rate_code|store_and_fwd_flag|   dropoff_datetime|passenger_count|trip_time_in_secs|trip_distance|pickup_longitude|pickup_latitude|dropoff_longitude|dropoff_latitude|payment_type|fare_amount|surcharge|mta_tax|tip_amount|tolls_amount|total_amount|\n",
            "+--------------------+-------------------+--------------------+---------+---------+------------------+-------------------+---------------+-----------------+-------------+----------------+---------------+-----------------+----------------+------------+-----------+---------+-------+----------+------------+------------+\n",
            "|00005007A9F30E289...|2013-01-03 20:15:01|A9AE329EA1138052D...|      CMT|        1|                 N|2013-01-03 20:22:02|              3|              421|         1.30|      -73.990501|      40.737629|       -74.005951|       40.735947|         CRD|          7|      0.5|    0.5|         2|           0|          10|\n",
            "|00005007A9F30E289...|2013-01-04 13:55:14|39C3E34B3E338A721...|      CMT|        1|                 N|2013-01-04 14:07:53|              3|              758|         2.30|       -73.95929|      40.783024|       -73.984917|        40.76907|         CRD|         11|        0|    0.5|         0|           0|        11.5|\n",
            "|00005007A9F30E289...|2013-01-07 09:20:52|39C3E34B3E338A721...|      CMT|        1|                 N|2013-01-07 09:37:32|              1|              999|         2.40|       -73.95533|      40.779221|       -73.986671|       40.768559|         CRD|         13|        0|    0.5|       2.7|           0|        16.2|\n",
            "|00005007A9F30E289...|2013-01-10 22:16:32|A9AE329EA1138052D...|      CMT|        1|                 N|2013-01-10 22:26:12|              1|              579|         1.60|      -73.985336|      40.741375|       -74.006538|       40.734463|         CRD|        8.5|      0.5|    0.5|         2|           0|        11.5|\n",
            "|00005007A9F30E289...|2013-01-13 22:02:22|A9AE329EA1138052D...|      CMT|        1|                 N|2013-01-13 22:05:15|              1|              173|          .40|      -73.969788|       40.79995|       -73.967239|       40.805004|         CSH|          4|      0.5|    0.5|         0|           0|           5|\n",
            "|00005007A9F30E289...|2013-01-16 21:38:06|A9AE329EA1138052D...|      CMT|        1|                 N|2013-01-16 21:53:34|              2|              927|         4.30|      -73.955811|      40.779846|        -74.00296|       40.749325|         CSH|         15|      0.5|    0.5|         0|           0|          16|\n",
            "|00005007A9F30E289...|2013-01-19 22:30:46|A9AE329EA1138052D...|      CMT|        1|                 N|2013-01-19 22:44:52|              4|              845|         2.70|      -73.988625|      40.758896|       -74.007736|       40.735584|         CSH|       11.5|      0.5|    0.5|         0|           0|        12.5|\n",
            "|00005007A9F30E289...|2013-01-20 10:20:22|39C3E34B3E338A721...|      CMT|        1|                 N|2013-01-20 10:30:15|              1|              592|         1.40|      -73.977837|      40.749969|       -73.999603|       40.759518|         CSH|        8.5|        0|    0.5|         0|           0|           9|\n",
            "|00005007A9F30E289...|2013-01-20 20:55:57|A9AE329EA1138052D...|      CMT|        1|                 Y|2013-01-20 21:03:59|              1|              482|         1.70|      -73.983147|      40.743671|       -73.987801|       40.757931|         CSH|          8|      0.5|    0.5|         0|           0|           9|\n",
            "|00005007A9F30E289...|2013-01-22 21:46:54|25F6CC95763517367...|      CMT|        1|                 N|2013-01-22 22:03:16|              1|              981|         4.30|      -73.989525|      40.718262|       -73.941948|       40.683422|         CRD|         16|      0.5|    0.5|      4.25|           0|       21.25|\n",
            "|00005007A9F30E289...|2013-01-23 07:09:41|39C3E34B3E338A721...|      CMT|        1|                 N|2013-01-23 07:16:44|              1|              422|         1.70|      -73.955292|       40.78297|       -73.971664|       40.760349|         CRD|        8.5|        0|    0.5|      0.75|           0|        9.75|\n",
            "|00005007A9F30E289...|2013-01-27 20:45:03|A9AE329EA1138052D...|      CMT|        1|                 N|2013-01-27 21:02:29|              1|             1045|         9.60|      -73.783302|      40.648479|       -73.913116|       40.634319|         CRD|       27.5|      0.5|    0.5|         0|           0|        28.5|\n",
            "|00005007A9F30E289...|2013-01-27 23:44:47|A9AE329EA1138052D...|      CMT|        1|                 N|2013-01-27 23:57:35|              2|              767|         3.40|      -73.979187|      40.781944|       -73.939888|       40.806797|         CSH|         13|      0.5|    0.5|         0|           0|          14|\n",
            "|000318C2E3E638158...|2013-01-04 07:34:00|F0A25E95A68083330...|      VTS|        1|              null|2013-01-04 07:40:00|              6|              360|          .98|      -73.977669|      40.777199|       -73.981705|       40.766644|         CSH|          6|        0|    0.5|         0|           0|         6.5|\n",
            "|000318C2E3E638158...|2013-01-04 15:19:00|F0A25E95A68083330...|      VTS|        2|              null|2013-01-04 16:10:00|              6|             3060|        20.19|      -73.966003|      40.794628|        -73.77697|        40.64468|         CRD|         52|        0|    0.5|      10.4|         4.8|        67.7|\n",
            "|000318C2E3E638158...|2013-01-06 07:36:00|8BB94E124ED9E6F26...|      VTS|        1|              null|2013-01-06 07:40:00|              1|              240|          .89|      -73.993835|      40.751396|       -73.991905|       40.753891|         CRD|          5|        0|    0.5|         1|           0|         6.5|\n",
            "|000318C2E3E638158...|2013-01-08 02:02:00|1A05759AE547231C9...|      VTS|        1|              null|2013-01-08 02:07:00|              6|              300|         1.77|               0|              0|                0|               0|         CSH|          7|      0.5|    0.5|         0|           0|           8|\n",
            "|000318C2E3E638158...|2013-01-08 08:16:00|CC24C0FE5DD7C4856...|      VTS|        1|              null|2013-01-08 08:22:00|              6|              360|          .84|      -73.958557|      40.772438|       -73.958221|       40.778164|         CSH|          6|        0|    0.5|         0|           0|         6.5|\n",
            "|000318C2E3E638158...|2013-01-10 09:27:00|CC24C0FE5DD7C4856...|      VTS|        1|              null|2013-01-10 09:39:00|              6|              720|         2.14|      -73.961273|      40.771461|       -73.961273|       40.771461|         CRD|       10.5|        0|    0.5|         1|           0|          12|\n",
            "|000318C2E3E638158...|2013-01-13 20:57:00|1A05759AE547231C9...|      VTS|        1|              null|2013-01-13 21:04:00|              6|              420|         2.14|               0|              0|                0|               0|         CRD|        8.5|      0.5|    0.5|       1.8|           0|        11.3|\n",
            "+--------------------+-------------------+--------------------+---------+---------+------------------+-------------------+---------------+-----------------+-------------+----------------+---------------+-----------------+----------------+------------+-----------+---------+-------+----------+------------+------------+\n",
            "only showing top 20 rows\n",
            "\n"
          ]
        }
      ],
      "source": [
        "df = df.join(df1, ['medallion','pickup_datetime', 'hack_license', 'vendor_id', ])\n",
        "df.show()"
      ]
    },
    {
      "cell_type": "markdown",
      "source": [
        "**Checking the schema to make sure it joined correctly and there are no duplicate fields**"
      ],
      "metadata": {
        "id": "sZY8HfMaIm5i"
      }
    },
    {
      "cell_type": "code",
      "execution_count": null,
      "metadata": {
        "cell_id": "ef4839e52eb74dda9dfe02a0fd904c29",
        "deepnote_app_coordinates": {
          "h": 5,
          "w": 12,
          "x": 0,
          "y": 49
        },
        "deepnote_cell_type": "code",
        "deepnote_to_be_reexecuted": false,
        "execution_millis": 3766296,
        "execution_start": 1671152224550,
        "source_hash": "fb890246",
        "tags": [],
        "id": "ZtSYE26sHTtE",
        "outputId": "3a639b5c-be39-499c-a395-8b794ceb2007"
      },
      "outputs": [
        {
          "name": "stdout",
          "output_type": "stream",
          "text": [
            "root\n",
            " |-- medallion: string (nullable = true)\n",
            " |-- pickup_datetime: string (nullable = true)\n",
            " |-- hack_license: string (nullable = true)\n",
            " |-- vendor_id: string (nullable = true)\n",
            " |-- rate_code: string (nullable = true)\n",
            " |-- store_and_fwd_flag: string (nullable = true)\n",
            " |-- dropoff_datetime: string (nullable = true)\n",
            " |-- passenger_count: string (nullable = true)\n",
            " |-- trip_time_in_secs: string (nullable = true)\n",
            " |-- trip_distance: string (nullable = true)\n",
            " |-- pickup_longitude: string (nullable = true)\n",
            " |-- pickup_latitude: string (nullable = true)\n",
            " |-- dropoff_longitude: string (nullable = true)\n",
            " |-- dropoff_latitude: string (nullable = true)\n",
            " |-- payment_type: string (nullable = true)\n",
            " |-- fare_amount: string (nullable = true)\n",
            " |-- surcharge: string (nullable = true)\n",
            " |-- mta_tax: string (nullable = true)\n",
            " |-- tip_amount: string (nullable = true)\n",
            " |-- tolls_amount: string (nullable = true)\n",
            " |-- total_amount: string (nullable = true)\n",
            "\n"
          ]
        }
      ],
      "source": [
        "df.printSchema()"
      ]
    },
    {
      "cell_type": "markdown",
      "metadata": {
        "cell_id": "2cdcb7f7e1ce428a92d61811060ab9b6",
        "deepnote_cell_type": "text-cell-h3",
        "formattedRanges": [],
        "is_collapsed": false,
        "tags": [],
        "id": "oPrq0hlkHTtE"
      },
      "source": [
        "### (c) Only use approximately 10 percent of data\n",
        "Our dataset is fairly large (14 million rows) and due to its size, the execution time was significantly consuming. Therefore we had to cut down our data to only 10 percent. This was obtained by the following steps:\n",
        "\n",
        "\n",
        "*   Assigning row numbers to column 'row'\n",
        "*   Filtering rows by using row numbers divisible by 10\n",
        "\n"
      ]
    },
    {
      "cell_type": "code",
      "execution_count": null,
      "metadata": {
        "cell_id": "ff1bbc49a68049169f867d86e5e65a78",
        "deepnote_cell_type": "code",
        "deepnote_to_be_reexecuted": false,
        "execution_millis": 92,
        "execution_start": 1671152224562,
        "source_hash": "3ff367b4",
        "tags": [],
        "id": "2BO8cR9YHTtE"
      },
      "outputs": [],
      "source": [
        "df = df.select(\"*\").withColumn(\"row\", monotonically_increasing_id())"
      ]
    },
    {
      "cell_type": "code",
      "execution_count": null,
      "metadata": {
        "cell_id": "a7e02432cbb04255a13911472b175b4b",
        "deepnote_cell_type": "code",
        "deepnote_to_be_reexecuted": false,
        "execution_millis": 160,
        "execution_start": 1671152224662,
        "source_hash": "da9a7cc0",
        "tags": [],
        "id": "mbNQjT9OHTtF"
      },
      "outputs": [],
      "source": [
        "df = df.filter(df.row%10 == 0)"
      ]
    },
    {
      "cell_type": "code",
      "execution_count": null,
      "metadata": {
        "cell_id": "6f2c92fd94294806a1c84a2ecb49b4b8",
        "deepnote_cell_type": "code",
        "deepnote_to_be_reexecuted": false,
        "execution_millis": 378858,
        "execution_start": 1671152224866,
        "source_hash": "5fd9e236",
        "tags": [],
        "id": "Z781OXMLHTtF",
        "outputId": "cb89c23f-6c52-474f-85ed-b1c621b36c54"
      },
      "outputs": [
        {
          "name": "stdout",
          "output_type": "stream",
          "text": [
            "DataFrame Rows count : 1477663\n"
          ]
        }
      ],
      "source": [
        "rows = df.count()\n",
        "print(f\"DataFrame Rows count : {rows}\")"
      ]
    },
    {
      "cell_type": "markdown",
      "metadata": {
        "cell_id": "db72b9600c4c4aaa8c35e2647fc88d98",
        "deepnote_app_coordinates": {
          "h": 5,
          "w": 12,
          "x": 0,
          "y": 124
        },
        "deepnote_cell_type": "text-cell-h3",
        "formattedRanges": [],
        "is_collapsed": false,
        "tags": [],
        "id": "tu_Y8g4FHTtF"
      },
      "source": [
        "### (d) Remove data that doesn't have type 1 for rate_code"
      ]
    },
    {
      "cell_type": "markdown",
      "metadata": {
        "cell_id": "0571331c-eb51-4b7c-93af-0efe8d294223",
        "deepnote_app_coordinates": {
          "h": 2,
          "w": 8,
          "x": 0,
          "y": 130
        },
        "deepnote_cell_type": "text-cell-p",
        "formattedRanges": [
          {
            "fromCodePoint": 0,
            "marks": {
              "bold": true
            },
            "toCodePoint": 98,
            "type": "marks"
          }
        ],
        "is_collapsed": false,
        "tags": [],
        "id": "g1MGwReYHTtG"
      },
      "source": [
        "We only want trips within the city, this can be obtained by only using trips with 'rate_code' as 1"
      ]
    },
    {
      "cell_type": "code",
      "execution_count": null,
      "metadata": {
        "cell_id": "6b1dcc9335414d8784fe639365c88b58",
        "deepnote_app_coordinates": {
          "h": 5,
          "w": 12,
          "x": 0,
          "y": 139
        },
        "deepnote_cell_type": "code",
        "deepnote_to_be_reexecuted": false,
        "execution_millis": 463538,
        "execution_start": 1671152603740,
        "source_hash": "2c955806",
        "tags": [],
        "id": "mW1pZ7MXHTtG",
        "outputId": "25433ab6-b9e5-4ddf-f056-d032db0a3645"
      },
      "outputs": [
        {
          "name": "stdout",
          "output_type": "stream",
          "text": [
            "+--------------------+-------------------+--------------------+---------+---------+------------------+-------------------+---------------+-----------------+-------------+----------------+---------------+-----------------+----------------+------------+-----------+---------+-------+----------+------------+------------+---+\n",
            "|           medallion|    pickup_datetime|        hack_license|vendor_id|rate_code|store_and_fwd_flag|   dropoff_datetime|passenger_count|trip_time_in_secs|trip_distance|pickup_longitude|pickup_latitude|dropoff_longitude|dropoff_latitude|payment_type|fare_amount|surcharge|mta_tax|tip_amount|tolls_amount|total_amount|row|\n",
            "+--------------------+-------------------+--------------------+---------+---------+------------------+-------------------+---------------+-----------------+-------------+----------------+---------------+-----------------+----------------+------------+-----------+---------+-------+----------+------------+------------+---+\n",
            "|00005007A9F30E289...|2013-01-03 20:15:01|A9AE329EA1138052D...|      CMT|        1|                 N|2013-01-03 20:22:02|              3|              421|         1.30|      -73.990501|      40.737629|       -74.005951|       40.735947|         CRD|          7|      0.5|    0.5|         2|           0|          10|  0|\n",
            "|00005007A9F30E289...|2013-01-23 07:09:41|39C3E34B3E338A721...|      CMT|        1|                 N|2013-01-23 07:16:44|              1|              422|         1.70|      -73.955292|       40.78297|       -73.971664|       40.760349|         CRD|        8.5|        0|    0.5|      0.75|           0|        9.75| 10|\n",
            "|000318C2E3E638158...|2013-01-14 08:05:00|8BB94E124ED9E6F26...|      VTS|        1|              null|2013-01-14 08:24:00|              1|             1140|         3.95|      -73.954979|       40.78545|       -73.952393|       40.789864|         CRD|         16|        0|    0.5|         2|           0|        18.5| 20|\n",
            "|000351EDC735C0792...|2013-01-06 17:22:47|D28B1ABE1ED4B3DC3...|      CMT|        1|                 N|2013-01-06 17:30:51|              1|              483|         1.40|      -73.992096|      40.724762|       -74.010406|       40.716743|         CRD|        7.5|        0|    0.5|       1.6|           0|         9.6| 30|\n",
            "|000351EDC735C0792...|2013-01-18 15:46:18|D853121533BE521D0...|      CMT|        1|                 N|2013-01-18 15:54:22|              1|              483|          .30|      -73.954773|      40.765457|       -73.958099|       40.761028|         CSH|        6.5|        0|    0.5|         0|           0|           7| 40|\n",
            "|000351EDC735C0792...|2013-01-28 08:58:39|D853121533BE521D0...|      CMT|        1|                 N|2013-01-28 09:30:24|              1|             1904|         3.50|      -73.957802|      40.783245|       -73.987549|       40.748444|         CRD|       20.5|        0|    0.5|         3|           0|          24| 50|\n",
            "|0009986BDBAB2F9A1...|2013-01-14 14:53:51|EB0BF47D51268910F...|      CMT|        1|                 N|2013-01-14 15:02:45|              2|              533|         1.00|      -73.983284|      40.771191|        -73.97113|       40.762672|         CSH|        7.5|        0|    0.5|         0|           0|           8| 60|\n",
            "|0009986BDBAB2F9A1...|2013-01-26 21:13:12|44CED38841518B1FB...|      CMT|        1|                 N|2013-01-26 21:35:29|              1|             1336|        10.90|      -73.977509|      40.786957|       -73.854637|       40.837612|         CSH|       31.5|      0.5|    0.5|         0|           0|        32.5| 70|\n",
            "|00153E36140C5B2A8...|2013-01-04 16:20:00|114A0835E3FCC3888...|      VTS|        1|              null|2013-01-04 16:26:00|              2|              360|         1.05|      -73.990089|      40.741653|       -73.978882|        40.75362|         CSH|          6|        1|    0.5|         0|           0|         7.5| 80|\n",
            "|001C8EC421C9BE57D...|2013-01-15 14:49:51|DDA19BC72A159864B...|      CMT|        1|                 N|2013-01-15 15:09:13|              1|             1161|         2.70|      -73.976463|      40.762856|       -73.967941|       40.788818|         CRD|       14.5|        0|    0.5|      3.75|           0|       18.75| 90|\n",
            "|001C8EC421C9BE57D...|2013-01-31 20:16:45|107B02D25D1F14E6A...|      CMT|        1|                 N|2013-01-31 20:20:52|              1|              247|         1.00|      -73.939827|      40.794426|       -73.949394|       40.780888|         CRD|        5.5|      0.5|    0.5|         1|           0|         7.5|100|\n",
            "|001DFAC01BC0A32F4...|2013-01-14 09:09:59|5A677E8D42137D000...|      CMT|        1|                 N|2013-01-14 09:28:59|              2|             1140|         4.60|      -73.960045|      40.770584|       -73.991074|       40.734211|         CRD|       17.5|        0|    0.5|       3.6|           0|        21.6|110|\n",
            "|002B4CFC5B8920A87...|2013-01-06 21:27:00|65938970D001F7280...|      VTS|        1|              null|2013-01-06 21:38:00|              1|              660|         1.27|      -73.971275|      40.756248|       -73.990242|       40.760727|         CSH|        8.5|      0.5|    0.5|         0|           0|         9.5|130|\n",
            "|002B4CFC5B8920A87...|2013-01-25 14:30:00|65938970D001F7280...|      VTS|        1|              null|2013-01-25 14:32:00|              1|              120|          .57|       -73.95871|      40.760071|       -73.963333|       40.755119|         CSH|          4|        0|    0.5|         0|           0|         4.5|140|\n",
            "|002E3B405B6ABEA23...|2013-01-22 17:03:00|D21C217C79D8E1E27...|      VTS|        1|              null|2013-01-22 17:07:00|              1|              240|          .93|      -73.981812|      40.759048|       -73.981094|       40.768913|         CRD|          5|        1|    0.5|       1.8|           0|         8.3|150|\n",
            "|0030AD2648D81EE87...|2013-01-16 09:38:00|0B4073A8EFED5707A...|      VTS|        1|              null|2013-01-16 09:57:00|              1|             1140|         2.54|      -73.977821|      40.778915|       -73.982727|       40.751171|         CRD|         14|        0|    0.5|       2.8|           0|        17.3|160|\n",
            "|0035520A854E4F276...|2013-01-12 13:20:00|EE7C4D47A657A318B...|      VTS|        1|              null|2013-01-12 13:27:00|              1|              420|         1.30|      -73.955612|      40.776299|       -73.970329|       40.783985|         CSH|          7|        0|    0.5|         0|           0|         7.5|170|\n",
            "|0035520A854E4F276...|2013-01-30 17:11:00|63B2CCDAA41467D61...|      VTS|        1|              null|2013-01-30 17:31:00|              1|             1200|         3.28|       -73.98735|      40.733135|       -73.958214|       40.772766|         CSH|       15.5|        1|    0.5|         0|           0|          17|180|\n",
            "|0036961468659D0BF...|2013-01-17 07:01:00|81CC8B6AF6BB10FD8...|      VTS|        1|              null|2013-01-17 07:07:00|              2|              360|         1.49|        -73.9739|      40.783974|       -73.981407|       40.767738|         CSH|        7.5|        0|    0.5|         0|           0|           8|190|\n",
            "|00377E15077848677...|2013-01-23 12:00:00|87D7BBCB6F1E61664...|      VTS|        1|              null|2013-01-23 12:21:00|              1|             1260|         1.97|      -73.988991|      40.753181|        -73.98275|       40.756123|         CRD|       13.5|        0|    0.5|       2.7|           0|        16.7|200|\n",
            "+--------------------+-------------------+--------------------+---------+---------+------------------+-------------------+---------------+-----------------+-------------+----------------+---------------+-----------------+----------------+------------+-----------+---------+-------+----------+------------+------------+---+\n",
            "only showing top 20 rows\n",
            "\n"
          ]
        }
      ],
      "source": [
        "df = df.filter(df.rate_code == \"1\")\n",
        "df.show()"
      ]
    },
    {
      "cell_type": "markdown",
      "metadata": {
        "cell_id": "3c3e562b0e9d4521a324c18fa860d25e",
        "deepnote_app_coordinates": {
          "h": 5,
          "w": 12,
          "x": 0,
          "y": 88
        },
        "deepnote_cell_type": "text-cell-h3",
        "formattedRanges": [],
        "is_collapsed": false,
        "tags": [],
        "id": "C6McDHTvHTtG"
      },
      "source": [
        "### (e) Filter out unwanted fields"
      ]
    },
    {
      "cell_type": "code",
      "execution_count": null,
      "metadata": {
        "cell_id": "bf25c4544e09420095c3858dcd0f96f6",
        "deepnote_app_coordinates": {
          "h": 5,
          "w": 12,
          "x": 0,
          "y": 94
        },
        "deepnote_cell_type": "code",
        "deepnote_to_be_reexecuted": true,
        "execution_millis": 420494,
        "execution_start": 1671149443236,
        "source_hash": "f0f2615c",
        "tags": [],
        "id": "F9ptWz0cHTtG",
        "outputId": "f972e0ab-f62b-48ff-d332-4ab5ed6bb9f7"
      },
      "outputs": [
        {
          "name": "stdout",
          "output_type": "stream",
          "text": [
            "+-------------------+-----------------+-------------+----------------+---------------+-----------------+----------------+-----------+\n",
            "|    pickup_datetime|trip_time_in_secs|trip_distance|pickup_longitude|pickup_latitude|dropoff_longitude|dropoff_latitude|fare_amount|\n",
            "+-------------------+-----------------+-------------+----------------+---------------+-----------------+----------------+-----------+\n",
            "|2013-01-03 20:15:01|              421|         1.30|      -73.990501|      40.737629|       -74.005951|       40.735947|          7|\n",
            "|2013-01-19 22:30:46|              845|         2.70|      -73.988625|      40.758896|       -74.007736|       40.735584|       11.5|\n",
            "|2013-01-30 21:06:28|              264|         1.00|      -73.989304|      40.757877|       -73.977768|       40.764202|        5.5|\n",
            "|2013-01-10 09:07:00|              360|         1.69|      -73.961273|      40.771461|       -73.961273|       40.771461|          7|\n",
            "|2013-01-04 00:03:17|              273|          .60|      -73.985161|      40.747807|       -73.977562|       40.750298|          5|\n",
            "|2013-01-06 21:16:55|              937|         9.00|       -73.86293|      40.769211|        -73.98024|       40.744446|         26|\n",
            "|2013-01-18 09:22:05|              751|         4.30|      -73.973282|       40.74839|       -74.004456|       40.708084|         15|\n",
            "|2013-01-24 06:23:12|              870|         4.40|       -73.91954|       40.74345|       -73.947647|       40.775143|       15.5|\n",
            "|2013-01-31 18:39:20|              808|         2.70|      -73.945206|       40.77861|       -73.953796|       40.804707|         11|\n",
            "|2013-01-16 16:43:37|              338|         1.30|      -73.953903|      40.778809|       -73.953163|       40.786064|        6.5|\n",
            "|2013-01-25 19:00:30|              253|          .50|       -73.99205|      40.752422|       -73.985062|       40.750355|        4.5|\n",
            "|2013-01-20 23:37:06|              688|         2.80|      -73.978111|      40.783249|       -73.990089|       40.751839|         11|\n",
            "|2013-01-03 11:47:08|              317|         1.10|      -73.964264|      40.764912|       -73.952759|       40.777248|          6|\n",
            "|2013-01-07 21:13:13|              370|          .80|      -73.977463|      40.764248|       -73.992012|       40.770687|          6|\n",
            "|2013-01-24 02:58:28|              463|         1.60|      -73.996399|      40.722115|       -74.004715|       40.734364|        7.5|\n",
            "|2013-01-11 22:07:49|             1328|         5.40|      -73.976234|      40.682449|       -73.976532|       40.751923|         20|\n",
            "|2013-01-14 00:23:58|              651|         2.60|      -73.983749|      40.726936|       -73.955864|       40.708553|       11.5|\n",
            "|2013-01-29 09:13:25|              795|         2.70|      -73.951691|      40.781933|       -73.982094|        40.76825|         12|\n",
            "|2013-01-01 13:45:00|             1920|        11.01|      -73.974487|      40.658447|       -73.967606|       40.768829|         35|\n",
            "|2013-01-11 21:46:00|              900|         2.51|      -74.003571|      40.732006|       -73.979881|       40.751781|       11.5|\n",
            "+-------------------+-----------------+-------------+----------------+---------------+-----------------+----------------+-----------+\n",
            "only showing top 20 rows\n",
            "\n"
          ]
        }
      ],
      "source": [
        "df = df.drop(*('medallion',\n",
        "                'hack_license',\n",
        "                'vendor_id',\n",
        "                'rate_code',\n",
        "                'store_and_fwd_flag',\n",
        "                'dropoff_datetime',\n",
        "                'passenger_count',\n",
        "                'payment_type',\n",
        "                'surcharge',\n",
        "                'mta_tax',\n",
        "                'tip_amount',\n",
        "                'tolls_amount',\n",
        "                'total_amount',\n",
        "                'row'))\n",
        "df.show()"
      ]
    },
    {
      "cell_type": "markdown",
      "metadata": {
        "cell_id": "8b9c38f6b9404561bb93a9dc82b9bfc4",
        "deepnote_cell_type": "text-cell-h3",
        "formattedRanges": [],
        "is_collapsed": false,
        "tags": [],
        "id": "l1oiHA2BHTtH"
      },
      "source": [
        "### (f) Changing all string types to designated types"
      ]
    },
    {
      "cell_type": "code",
      "execution_count": null,
      "metadata": {
        "cell_id": "9575a12bc85f49df91aeb29c2c654b22",
        "deepnote_cell_type": "code",
        "deepnote_to_be_reexecuted": true,
        "execution_millis": 313,
        "execution_start": 1671149863746,
        "source_hash": "7c25e379",
        "tags": [],
        "id": "eQTwbd6RHTtH"
      },
      "outputs": [],
      "source": [
        "df = df.withColumn(\"trip_time_in_secs\",col(\"trip_time_in_secs\").cast('integer')) \\\n",
        "    .withColumn(\"trip_distance\",col(\"trip_distance\").cast('double')) \\\n",
        "    .withColumn(\"pickup_longitude\",col(\"pickup_longitude\").cast('double')) \\\n",
        "    .withColumn(\"pickup_latitude\",col(\"pickup_latitude\").cast('double')) \\\n",
        "    .withColumn(\"dropoff_longitude\",col(\"dropoff_longitude\").cast('double')) \\\n",
        "    .withColumn(\"dropoff_latitude\",col(\"dropoff_latitude\").cast('double')) \\\n",
        "    .withColumn(\"fare_amount\",col(\"fare_amount\").cast('double'))"
      ]
    },
    {
      "cell_type": "markdown",
      "metadata": {
        "cell_id": "5729d51044334edaa83c352d6eb28325",
        "deepnote_cell_type": "text-cell-h3",
        "formattedRanges": [],
        "is_collapsed": false,
        "tags": [],
        "id": "33Ppp4EyHTtH"
      },
      "source": [
        "### (g) Removing Invalid Coordinates"
      ]
    },
    {
      "cell_type": "code",
      "execution_count": null,
      "metadata": {
        "cell_id": "a0d68fc7de444e0cbe369cf82ff50560",
        "deepnote_app_coordinates": {
          "h": 5,
          "w": 12,
          "x": 0,
          "y": 145
        },
        "deepnote_cell_type": "code",
        "deepnote_to_be_reexecuted": true,
        "execution_millis": 562905,
        "execution_start": 1671149864120,
        "source_hash": "5fd9e236",
        "tags": [],
        "id": "63ugJV4cHTtH",
        "outputId": "e66d1c56-bccc-4349-9842-66699bcaeec5"
      },
      "outputs": [
        {
          "name": "stdout",
          "output_type": "stream",
          "text": [
            "DataFrame Rows count : 1445739\n"
          ]
        }
      ],
      "source": [
        "rows = df.count() # Row count before filtering\n",
        "print(f\"DataFrame Rows count : {rows}\")"
      ]
    },
    {
      "cell_type": "code",
      "execution_count": null,
      "metadata": {
        "cell_id": "9be08c981936452889bb86c5a16a5bac",
        "deepnote_app_coordinates": {
          "h": 5,
          "w": 12,
          "x": 0,
          "y": 160
        },
        "deepnote_cell_type": "code",
        "deepnote_to_be_reexecuted": true,
        "execution_millis": 864235,
        "execution_start": 1671150427037,
        "source_hash": "b1f8699",
        "tags": [],
        "id": "SWltS9QxHTtH",
        "outputId": "903f32c2-5c3a-450f-fcf2-3d886c383ea6"
      },
      "outputs": [
        {
          "name": "stdout",
          "output_type": "stream",
          "text": [
            "DataFrame Rows count after dropping invalid coordinates: 1418802\n",
            "+-------------------+-----------------+-------------+----------------+---------------+-----------------+----------------+-----------+\n",
            "|    pickup_datetime|trip_time_in_secs|trip_distance|pickup_longitude|pickup_latitude|dropoff_longitude|dropoff_latitude|fare_amount|\n",
            "+-------------------+-----------------+-------------+----------------+---------------+-----------------+----------------+-----------+\n",
            "|2013-01-03 20:15:01|              421|          1.3|      -73.990501|      40.737629|       -74.005951|       40.735947|        7.0|\n",
            "|2013-01-19 22:30:46|              845|          2.7|      -73.988625|      40.758896|       -74.007736|       40.735584|       11.5|\n",
            "|2013-01-30 21:06:28|              264|          1.0|      -73.989304|      40.757877|       -73.977768|       40.764202|        5.5|\n",
            "|2013-01-10 09:07:00|              360|         1.69|      -73.961273|      40.771461|       -73.961273|       40.771461|        7.0|\n",
            "|2013-01-04 00:03:17|              273|          0.6|      -73.985161|      40.747807|       -73.977562|       40.750298|        5.0|\n",
            "|2013-01-06 21:16:55|              937|          9.0|       -73.86293|      40.769211|        -73.98024|       40.744446|       26.0|\n",
            "|2013-01-18 09:22:05|              751|          4.3|      -73.973282|       40.74839|       -74.004456|       40.708084|       15.0|\n",
            "|2013-01-24 06:23:12|              870|          4.4|       -73.91954|       40.74345|       -73.947647|       40.775143|       15.5|\n",
            "|2013-01-31 18:39:20|              808|          2.7|      -73.945206|       40.77861|       -73.953796|       40.804707|       11.0|\n",
            "|2013-01-16 16:43:37|              338|          1.3|      -73.953903|      40.778809|       -73.953163|       40.786064|        6.5|\n",
            "|2013-01-25 19:00:30|              253|          0.5|       -73.99205|      40.752422|       -73.985062|       40.750355|        4.5|\n",
            "|2013-01-20 23:37:06|              688|          2.8|      -73.978111|      40.783249|       -73.990089|       40.751839|       11.0|\n",
            "|2013-01-03 11:47:08|              317|          1.1|      -73.964264|      40.764912|       -73.952759|       40.777248|        6.0|\n",
            "|2013-01-07 21:13:13|              370|          0.8|      -73.977463|      40.764248|       -73.992012|       40.770687|        6.0|\n",
            "|2013-01-24 02:58:28|              463|          1.6|      -73.996399|      40.722115|       -74.004715|       40.734364|        7.5|\n",
            "|2013-01-11 22:07:49|             1328|          5.4|      -73.976234|      40.682449|       -73.976532|       40.751923|       20.0|\n",
            "|2013-01-14 00:23:58|              651|          2.6|      -73.983749|      40.726936|       -73.955864|       40.708553|       11.5|\n",
            "|2013-01-29 09:13:25|              795|          2.7|      -73.951691|      40.781933|       -73.982094|        40.76825|       12.0|\n",
            "|2013-01-01 13:45:00|             1920|        11.01|      -73.974487|      40.658447|       -73.967606|       40.768829|       35.0|\n",
            "|2013-01-11 21:46:00|              900|         2.51|      -74.003571|      40.732006|       -73.979881|       40.751781|       11.5|\n",
            "+-------------------+-----------------+-------------+----------------+---------------+-----------------+----------------+-----------+\n",
            "only showing top 20 rows\n",
            "\n"
          ]
        }
      ],
      "source": [
        "#Removing Longitude and Latitude values outside of zero values (0)\n",
        "df = df.filter((df.pickup_longitude < -72.8) & (df.pickup_longitude > -74.5)\n",
        "            & (df.pickup_latitude < 41.8) & (df.pickup_latitude > 40.5)\n",
        "            & (df.dropoff_longitude < -72.8) & (df.dropoff_longitude > -74.5)\n",
        "            & (df.dropoff_latitude < 41.8) & (df.dropoff_latitude > 40.5))\n",
        "rows = df.count() # Row count after filtering\n",
        "print(f\"DataFrame Rows count after dropping invalid coordinates: {rows}\") \n",
        "df.show()"
      ]
    },
    {
      "cell_type": "markdown",
      "metadata": {
        "cell_id": "4707d77c417643098d85da838f897a13",
        "deepnote_app_coordinates": {
          "h": 5,
          "w": 12,
          "x": 0,
          "y": 133
        },
        "deepnote_cell_type": "text-cell-h3",
        "formattedRanges": [],
        "is_collapsed": false,
        "tags": [],
        "id": "fXkQ8JDnHTtI"
      },
      "source": [
        "### (h) Separate pickup_datetime into day and time columns"
      ]
    },
    {
      "cell_type": "code",
      "execution_count": null,
      "metadata": {
        "cell_id": "b9bd3e74ef674f25be33c14832935796",
        "deepnote_app_coordinates": {
          "h": 5,
          "w": 12,
          "x": 0,
          "y": 166
        },
        "deepnote_cell_type": "code",
        "deepnote_to_be_reexecuted": true,
        "execution_millis": 352996,
        "execution_start": 1671142936792,
        "source_hash": "9a69e08c",
        "tags": [],
        "id": "JI8oP6dnHTtI",
        "outputId": "ab9d858a-2613-477a-f428-cafb97435fd8"
      },
      "outputs": [
        {
          "name": "stdout",
          "output_type": "stream",
          "text": [
            "+-------------------+-----------------+-------------+----------------+---------------+-----------------+----------------+-----------+----------+--------+\n",
            "|    pickup_datetime|trip_time_in_secs|trip_distance|pickup_longitude|pickup_latitude|dropoff_longitude|dropoff_latitude|fare_amount|      date|    time|\n",
            "+-------------------+-----------------+-------------+----------------+---------------+-----------------+----------------+-----------+----------+--------+\n",
            "|2013-01-03 20:15:01|              421|          1.3|      -73.990501|      40.737629|       -74.005951|       40.735947|        7.0|2013-01-03|20:15:01|\n",
            "|2013-01-19 22:30:46|              845|          2.7|      -73.988625|      40.758896|       -74.007736|       40.735584|       11.5|2013-01-19|22:30:46|\n",
            "|2013-01-30 21:06:28|              264|          1.0|      -73.989304|      40.757877|       -73.977768|       40.764202|        5.5|2013-01-30|21:06:28|\n",
            "|2013-01-10 09:07:00|              360|         1.69|      -73.961273|      40.771461|       -73.961273|       40.771461|        7.0|2013-01-10|09:07:00|\n",
            "|2013-01-04 00:03:17|              273|          0.6|      -73.985161|      40.747807|       -73.977562|       40.750298|        5.0|2013-01-04|00:03:17|\n",
            "|2013-01-06 21:16:55|              937|          9.0|       -73.86293|      40.769211|        -73.98024|       40.744446|       26.0|2013-01-06|21:16:55|\n",
            "|2013-01-18 09:22:05|              751|          4.3|      -73.973282|       40.74839|       -74.004456|       40.708084|       15.0|2013-01-18|09:22:05|\n",
            "|2013-01-24 06:23:12|              870|          4.4|       -73.91954|       40.74345|       -73.947647|       40.775143|       15.5|2013-01-24|06:23:12|\n",
            "|2013-01-31 18:39:20|              808|          2.7|      -73.945206|       40.77861|       -73.953796|       40.804707|       11.0|2013-01-31|18:39:20|\n",
            "|2013-01-16 16:43:37|              338|          1.3|      -73.953903|      40.778809|       -73.953163|       40.786064|        6.5|2013-01-16|16:43:37|\n",
            "|2013-01-25 19:00:30|              253|          0.5|       -73.99205|      40.752422|       -73.985062|       40.750355|        4.5|2013-01-25|19:00:30|\n",
            "|2013-01-20 23:37:06|              688|          2.8|      -73.978111|      40.783249|       -73.990089|       40.751839|       11.0|2013-01-20|23:37:06|\n",
            "|2013-01-03 11:47:08|              317|          1.1|      -73.964264|      40.764912|       -73.952759|       40.777248|        6.0|2013-01-03|11:47:08|\n",
            "|2013-01-07 21:13:13|              370|          0.8|      -73.977463|      40.764248|       -73.992012|       40.770687|        6.0|2013-01-07|21:13:13|\n",
            "|2013-01-24 02:58:28|              463|          1.6|      -73.996399|      40.722115|       -74.004715|       40.734364|        7.5|2013-01-24|02:58:28|\n",
            "|2013-01-11 22:07:49|             1328|          5.4|      -73.976234|      40.682449|       -73.976532|       40.751923|       20.0|2013-01-11|22:07:49|\n",
            "|2013-01-14 00:23:58|              651|          2.6|      -73.983749|      40.726936|       -73.955864|       40.708553|       11.5|2013-01-14|00:23:58|\n",
            "|2013-01-29 09:13:25|              795|          2.7|      -73.951691|      40.781933|       -73.982094|        40.76825|       12.0|2013-01-29|09:13:25|\n",
            "|2013-01-01 13:45:00|             1920|        11.01|      -73.974487|      40.658447|       -73.967606|       40.768829|       35.0|2013-01-01|13:45:00|\n",
            "|2013-01-11 21:46:00|              900|         2.51|      -74.003571|      40.732006|       -73.979881|       40.751781|       11.5|2013-01-11|21:46:00|\n",
            "+-------------------+-----------------+-------------+----------------+---------------+-----------------+----------------+-----------+----------+--------+\n",
            "only showing top 20 rows\n",
            "\n"
          ]
        }
      ],
      "source": [
        "df1 = df.withColumn('date', split(df['pickup_datetime'], ' ').getItem(0)) \\\n",
        "       .withColumn('time', split(df['pickup_datetime'], ' ').getItem(1))\n",
        "df1.show()"
      ]
    },
    {
      "cell_type": "markdown",
      "metadata": {
        "cell_id": "3dfc7fba25aa4d7cb3d17fc3d6c896cd",
        "deepnote_app_coordinates": {
          "h": 2,
          "w": 8,
          "x": 0,
          "y": 184
        },
        "deepnote_cell_type": "text-cell-p",
        "formattedRanges": [
          {
            "fromCodePoint": 0,
            "marks": {
              "bold": true
            },
            "toCodePoint": 41,
            "type": "marks"
          }
        ],
        "is_collapsed": false,
        "tags": [],
        "id": "-TXGdYUsHTtI"
      },
      "source": [
        "**Turning 'date' from string to date format**"
      ]
    },
    {
      "cell_type": "code",
      "execution_count": null,
      "metadata": {
        "cell_id": "0ea28e1c6940426a95daf51ee66b7c4d",
        "deepnote_app_coordinates": {
          "h": 5,
          "w": 12,
          "x": 0,
          "y": 190
        },
        "deepnote_cell_type": "code",
        "deepnote_to_be_reexecuted": true,
        "execution_millis": 448,
        "execution_start": 1671143289559,
        "source_hash": "df2dd50e",
        "tags": [],
        "id": "C-vqRYGYHTtI",
        "outputId": "61beaf0e-5219-4ad9-c7be-51a30c27ba68"
      },
      "outputs": [
        {
          "name": "stdout",
          "output_type": "stream",
          "text": [
            "root\n",
            " |-- pickup_datetime: string (nullable = true)\n",
            " |-- trip_time_in_secs: integer (nullable = true)\n",
            " |-- trip_distance: double (nullable = true)\n",
            " |-- pickup_longitude: double (nullable = true)\n",
            " |-- pickup_latitude: double (nullable = true)\n",
            " |-- dropoff_longitude: double (nullable = true)\n",
            " |-- dropoff_latitude: double (nullable = true)\n",
            " |-- fare_amount: double (nullable = true)\n",
            " |-- date: string (nullable = true)\n",
            " |-- time: string (nullable = true)\n",
            " |-- formatted_date: date (nullable = true)\n",
            "\n"
          ]
        }
      ],
      "source": [
        "df1 = df1.withColumn('formatted_date', to_date(unix_timestamp(col('date'), 'yyyy-MM-dd').cast(\"timestamp\")))\n",
        "\n",
        "df1.printSchema()"
      ]
    },
    {
      "cell_type": "markdown",
      "metadata": {
        "cell_id": "600f5a115f3c406da4202f77596662b0",
        "deepnote_app_coordinates": {
          "h": 2,
          "w": 8,
          "x": 0,
          "y": 196
        },
        "deepnote_cell_type": "text-cell-p",
        "formattedRanges": [
          {
            "fromCodePoint": 0,
            "marks": {
              "bold": true
            },
            "toCodePoint": 80,
            "type": "marks"
          }
        ],
        "is_collapsed": false,
        "tags": [],
        "id": "fZfqrAAzHTtI"
      },
      "source": [
        "**Creating a 'day_of_week' column where certain days of week correspond to numbers**"
      ]
    },
    {
      "cell_type": "markdown",
      "metadata": {
        "cell_id": "d9cb8b93-9a89-474f-924e-d52b02e7d5df",
        "deepnote_app_coordinates": {
          "h": 2,
          "w": 8,
          "x": 0,
          "y": 199
        },
        "deepnote_cell_type": "text-cell-p",
        "formattedRanges": [
          {
            "fromCodePoint": 3,
            "marks": {
              "bold": true
            },
            "toCodePoint": 11,
            "type": "marks"
          },
          {
            "fromCodePoint": 16,
            "marks": {
              "bold": true
            },
            "toCodePoint": 24,
            "type": "marks"
          },
          {
            "fromCodePoint": 29,
            "marks": {
              "bold": true
            },
            "toCodePoint": 37,
            "type": "marks"
          },
          {
            "fromCodePoint": 43,
            "marks": {
              "bold": true
            },
            "toCodePoint": 53,
            "type": "marks"
          },
          {
            "fromCodePoint": 59,
            "marks": {
              "bold": true
            },
            "toCodePoint": 68,
            "type": "marks"
          },
          {
            "fromCodePoint": 73,
            "marks": {
              "bold": true
            },
            "toCodePoint": 81,
            "type": "marks"
          },
          {
            "fromCodePoint": 87,
            "marks": {
              "bold": true
            },
            "toCodePoint": 96,
            "type": "marks"
          }
        ],
        "is_collapsed": false,
        "tags": [],
        "id": "RTj--7OhHTtJ"
      },
      "source": [
        "+  Sunday: 1\n",
        "+  Monday: 2\n",
        "+  Tuesday: 3\n",
        "+  Wednesday: 4\n",
        "+  Thursday: 5\n",
        "+  Friday: 6\n",
        "+  Saturday: 7"
      ]
    },
    {
      "cell_type": "code",
      "execution_count": null,
      "metadata": {
        "cell_id": "7d7519278e8244a998bd480c18b3b6bd",
        "deepnote_app_coordinates": {
          "h": 5,
          "w": 12,
          "x": 0,
          "y": 172
        },
        "deepnote_cell_type": "code",
        "deepnote_to_be_reexecuted": true,
        "execution_millis": 368153,
        "execution_start": 1671143289793,
        "source_hash": "c740d4e8",
        "tags": [],
        "id": "15NauSawHTtJ",
        "outputId": "4c5830f1-8439-4e9a-b27c-bf449167b509"
      },
      "outputs": [
        {
          "name": "stdout",
          "output_type": "stream",
          "text": [
            "+-------------------+-----------------+-------------+----------------+---------------+-----------------+----------------+-----------+----------+--------+--------------+-----------+\n",
            "|    pickup_datetime|trip_time_in_secs|trip_distance|pickup_longitude|pickup_latitude|dropoff_longitude|dropoff_latitude|fare_amount|      date|    time|formatted_date|day_of_week|\n",
            "+-------------------+-----------------+-------------+----------------+---------------+-----------------+----------------+-----------+----------+--------+--------------+-----------+\n",
            "|2013-01-03 20:15:01|              421|          1.3|      -73.990501|      40.737629|       -74.005951|       40.735947|        7.0|2013-01-03|20:15:01|    2013-01-03|          5|\n",
            "|2013-01-19 22:30:46|              845|          2.7|      -73.988625|      40.758896|       -74.007736|       40.735584|       11.5|2013-01-19|22:30:46|    2013-01-19|          7|\n",
            "|2013-01-30 21:06:28|              264|          1.0|      -73.989304|      40.757877|       -73.977768|       40.764202|        5.5|2013-01-30|21:06:28|    2013-01-30|          4|\n",
            "|2013-01-10 09:07:00|              360|         1.69|      -73.961273|      40.771461|       -73.961273|       40.771461|        7.0|2013-01-10|09:07:00|    2013-01-10|          5|\n",
            "|2013-01-04 00:03:17|              273|          0.6|      -73.985161|      40.747807|       -73.977562|       40.750298|        5.0|2013-01-04|00:03:17|    2013-01-04|          6|\n",
            "|2013-01-06 21:16:55|              937|          9.0|       -73.86293|      40.769211|        -73.98024|       40.744446|       26.0|2013-01-06|21:16:55|    2013-01-06|          1|\n",
            "|2013-01-18 09:22:05|              751|          4.3|      -73.973282|       40.74839|       -74.004456|       40.708084|       15.0|2013-01-18|09:22:05|    2013-01-18|          6|\n",
            "|2013-01-24 06:23:12|              870|          4.4|       -73.91954|       40.74345|       -73.947647|       40.775143|       15.5|2013-01-24|06:23:12|    2013-01-24|          5|\n",
            "|2013-01-31 18:39:20|              808|          2.7|      -73.945206|       40.77861|       -73.953796|       40.804707|       11.0|2013-01-31|18:39:20|    2013-01-31|          5|\n",
            "|2013-01-16 16:43:37|              338|          1.3|      -73.953903|      40.778809|       -73.953163|       40.786064|        6.5|2013-01-16|16:43:37|    2013-01-16|          4|\n",
            "|2013-01-25 19:00:30|              253|          0.5|       -73.99205|      40.752422|       -73.985062|       40.750355|        4.5|2013-01-25|19:00:30|    2013-01-25|          6|\n",
            "|2013-01-20 23:37:06|              688|          2.8|      -73.978111|      40.783249|       -73.990089|       40.751839|       11.0|2013-01-20|23:37:06|    2013-01-20|          1|\n",
            "|2013-01-03 11:47:08|              317|          1.1|      -73.964264|      40.764912|       -73.952759|       40.777248|        6.0|2013-01-03|11:47:08|    2013-01-03|          5|\n",
            "|2013-01-07 21:13:13|              370|          0.8|      -73.977463|      40.764248|       -73.992012|       40.770687|        6.0|2013-01-07|21:13:13|    2013-01-07|          2|\n",
            "|2013-01-24 02:58:28|              463|          1.6|      -73.996399|      40.722115|       -74.004715|       40.734364|        7.5|2013-01-24|02:58:28|    2013-01-24|          5|\n",
            "|2013-01-11 22:07:49|             1328|          5.4|      -73.976234|      40.682449|       -73.976532|       40.751923|       20.0|2013-01-11|22:07:49|    2013-01-11|          6|\n",
            "|2013-01-14 00:23:58|              651|          2.6|      -73.983749|      40.726936|       -73.955864|       40.708553|       11.5|2013-01-14|00:23:58|    2013-01-14|          2|\n",
            "|2013-01-29 09:13:25|              795|          2.7|      -73.951691|      40.781933|       -73.982094|        40.76825|       12.0|2013-01-29|09:13:25|    2013-01-29|          3|\n",
            "|2013-01-01 13:45:00|             1920|        11.01|      -73.974487|      40.658447|       -73.967606|       40.768829|       35.0|2013-01-01|13:45:00|    2013-01-01|          3|\n",
            "|2013-01-11 21:46:00|              900|         2.51|      -74.003571|      40.732006|       -73.979881|       40.751781|       11.5|2013-01-11|21:46:00|    2013-01-11|          6|\n",
            "+-------------------+-----------------+-------------+----------------+---------------+-----------------+----------------+-----------+----------+--------+--------------+-----------+\n",
            "only showing top 20 rows\n",
            "\n"
          ]
        }
      ],
      "source": [
        "df1 = df1.withColumn('day_of_week',dayofweek(df1.formatted_date))\n",
        "df1.show()"
      ]
    },
    {
      "cell_type": "markdown",
      "metadata": {
        "cell_id": "a2fa79b1038e4898a2b425d92fa3feff",
        "deepnote_app_coordinates": {
          "h": 2,
          "w": 8,
          "x": 0,
          "y": 187
        },
        "deepnote_cell_type": "text-cell-p",
        "formattedRanges": [
          {
            "fromCodePoint": 0,
            "marks": {
              "bold": true
            },
            "toCodePoint": 79,
            "type": "marks"
          }
        ],
        "is_collapsed": false,
        "tags": [],
        "id": "VFIxGFNBHTtJ"
      },
      "source": [
        "**Extracting hours of the day from 'time' column and adding it to column 'hour'**"
      ]
    },
    {
      "cell_type": "code",
      "execution_count": null,
      "metadata": {
        "cell_id": "5a12accf34a947858cbdc50dae7ed208",
        "deepnote_app_coordinates": {
          "h": 5,
          "w": 12,
          "x": 0,
          "y": 178
        },
        "deepnote_cell_type": "code",
        "deepnote_to_be_reexecuted": true,
        "execution_millis": 106,
        "execution_start": 1671143658036,
        "source_hash": "f3c66ae5",
        "tags": [],
        "id": "hPw6yoJ4HTtJ",
        "outputId": "db4f3c40-bd49-47d9-cdbb-b4667cfc3cfe"
      },
      "outputs": [
        {
          "name": "stdout",
          "output_type": "stream",
          "text": [
            "root\n",
            " |-- pickup_datetime: string (nullable = true)\n",
            " |-- trip_time_in_secs: integer (nullable = true)\n",
            " |-- trip_distance: double (nullable = true)\n",
            " |-- pickup_longitude: double (nullable = true)\n",
            " |-- pickup_latitude: double (nullable = true)\n",
            " |-- dropoff_longitude: double (nullable = true)\n",
            " |-- dropoff_latitude: double (nullable = true)\n",
            " |-- fare_amount: double (nullable = true)\n",
            " |-- date: string (nullable = true)\n",
            " |-- time: string (nullable = true)\n",
            " |-- formatted_date: date (nullable = true)\n",
            " |-- day_of_week: integer (nullable = true)\n",
            " |-- hour: integer (nullable = true)\n",
            "\n"
          ]
        }
      ],
      "source": [
        "df1 = df1.withColumn(\"hour\", split(df1['time'], ':').getItem(0))\n",
        "df1 = df1.withColumn(\"hour\",col(\"hour\").cast('integer'))\n",
        "df1.printSchema()"
      ]
    },
    {
      "cell_type": "markdown",
      "metadata": {
        "cell_id": "2c8b2d1bbc0f42af9ecec91cdef49faa",
        "deepnote_app_coordinates": {
          "h": 2,
          "w": 8,
          "x": 0,
          "y": 202
        },
        "deepnote_cell_type": "text-cell-p",
        "formattedRanges": [
          {
            "fromCodePoint": 0,
            "marks": {
              "bold": true
            },
            "toCodePoint": 31,
            "type": "marks"
          }
        ],
        "is_collapsed": false,
        "tags": [],
        "id": "oIE6W3RlHTtJ"
      },
      "source": [
        "**Getting rid of unwanted columns**"
      ]
    },
    {
      "cell_type": "code",
      "execution_count": null,
      "metadata": {
        "cell_id": "b81aff5edb30434abe2a7dad42c3c988",
        "deepnote_app_coordinates": {
          "h": 5,
          "w": 12,
          "x": 0,
          "y": 205
        },
        "deepnote_cell_type": "code",
        "deepnote_to_be_reexecuted": true,
        "execution_millis": 361322,
        "execution_start": 1671143658139,
        "source_hash": "f493a2fa",
        "tags": [],
        "id": "-nF3d3g4HTtJ",
        "outputId": "1d21dc34-aa09-4644-f916-9be5fc3291fa"
      },
      "outputs": [
        {
          "name": "stdout",
          "output_type": "stream",
          "text": [
            "+-----------------+-------------+----------------+---------------+-----------------+----------------+-----------+-----------+----+\n",
            "|trip_time_in_secs|trip_distance|pickup_longitude|pickup_latitude|dropoff_longitude|dropoff_latitude|fare_amount|day_of_week|hour|\n",
            "+-----------------+-------------+----------------+---------------+-----------------+----------------+-----------+-----------+----+\n",
            "|              421|          1.3|      -73.990501|      40.737629|       -74.005951|       40.735947|        7.0|          5|  20|\n",
            "|              845|          2.7|      -73.988625|      40.758896|       -74.007736|       40.735584|       11.5|          7|  22|\n",
            "|              264|          1.0|      -73.989304|      40.757877|       -73.977768|       40.764202|        5.5|          4|  21|\n",
            "|              360|         1.69|      -73.961273|      40.771461|       -73.961273|       40.771461|        7.0|          5|   9|\n",
            "|              273|          0.6|      -73.985161|      40.747807|       -73.977562|       40.750298|        5.0|          6|   0|\n",
            "|              937|          9.0|       -73.86293|      40.769211|        -73.98024|       40.744446|       26.0|          1|  21|\n",
            "|              751|          4.3|      -73.973282|       40.74839|       -74.004456|       40.708084|       15.0|          6|   9|\n",
            "|              870|          4.4|       -73.91954|       40.74345|       -73.947647|       40.775143|       15.5|          5|   6|\n",
            "|              808|          2.7|      -73.945206|       40.77861|       -73.953796|       40.804707|       11.0|          5|  18|\n",
            "|              338|          1.3|      -73.953903|      40.778809|       -73.953163|       40.786064|        6.5|          4|  16|\n",
            "|              253|          0.5|       -73.99205|      40.752422|       -73.985062|       40.750355|        4.5|          6|  19|\n",
            "|              688|          2.8|      -73.978111|      40.783249|       -73.990089|       40.751839|       11.0|          1|  23|\n",
            "|              317|          1.1|      -73.964264|      40.764912|       -73.952759|       40.777248|        6.0|          5|  11|\n",
            "|              370|          0.8|      -73.977463|      40.764248|       -73.992012|       40.770687|        6.0|          2|  21|\n",
            "|              463|          1.6|      -73.996399|      40.722115|       -74.004715|       40.734364|        7.5|          5|   2|\n",
            "|             1328|          5.4|      -73.976234|      40.682449|       -73.976532|       40.751923|       20.0|          6|  22|\n",
            "|              651|          2.6|      -73.983749|      40.726936|       -73.955864|       40.708553|       11.5|          2|   0|\n",
            "|              795|          2.7|      -73.951691|      40.781933|       -73.982094|        40.76825|       12.0|          3|   9|\n",
            "|             1920|        11.01|      -73.974487|      40.658447|       -73.967606|       40.768829|       35.0|          3|  13|\n",
            "|              900|         2.51|      -74.003571|      40.732006|       -73.979881|       40.751781|       11.5|          6|  21|\n",
            "+-----------------+-------------+----------------+---------------+-----------------+----------------+-----------+-----------+----+\n",
            "only showing top 20 rows\n",
            "\n"
          ]
        }
      ],
      "source": [
        "df1 = df1.drop(*('pickup_datetime',\n",
        "                'date',\n",
        "                'time',\n",
        "                'formatted_date',\n",
        "                'timestamp'))\n",
        "df1.show()"
      ]
    },
    {
      "cell_type": "markdown",
      "metadata": {
        "cell_id": "7f14b346bccc4081bba22cafb538eb8a",
        "deepnote_cell_type": "text-cell-h3",
        "formattedRanges": [],
        "is_collapsed": false,
        "tags": [],
        "id": "QZ8MUbKmHTtK"
      },
      "source": [
        "### (i) Removing trips below a minute and distance of 0 value"
      ]
    },
    {
      "cell_type": "code",
      "execution_count": null,
      "metadata": {
        "cell_id": "d8de63c38b7641bdbf6262f4e66fda6e",
        "deepnote_app_coordinates": {
          "h": 5,
          "w": 12,
          "x": 0,
          "y": 286
        },
        "deepnote_cell_type": "code",
        "deepnote_to_be_reexecuted": true,
        "execution_millis": 2,
        "execution_start": 1671144019310,
        "source_hash": "ba5727be",
        "tags": [],
        "id": "x-fdkS6MHTtK"
      },
      "outputs": [],
      "source": [
        "df1 = df1.filter((df1.trip_time_in_secs >= 60) & (df1.trip_distance != 0))"
      ]
    },
    {
      "cell_type": "markdown",
      "metadata": {
        "cell_id": "45bd27d03a0f48f2a944d3459af4cb71",
        "deepnote_cell_type": "text-cell-h3",
        "formattedRanges": [],
        "is_collapsed": false,
        "tags": [],
        "id": "K4e4HhGMHTtK"
      },
      "source": [
        "### (j) Assigning blocks\n",
        "This process takes trip coordinates and assigns city blocks depending on the longitude and latitude of the location."
      ]
    },
    {
      "cell_type": "code",
      "execution_count": null,
      "metadata": {
        "cell_id": "1ad77050f9044c07b1cd40761fbeadbc",
        "deepnote_cell_type": "code",
        "deepnote_to_be_reexecuted": true,
        "execution_millis": 232,
        "execution_start": 1671144019474,
        "source_hash": "351f0803",
        "tags": [],
        "id": "XfeQNbjHHTtK"
      },
      "outputs": [],
      "source": [
        "from pyspark.sql.functions import udf\n",
        "from pyspark.sql.types import IntegerType\n",
        "\n",
        "def assignBlock(longitude, latitude):\n",
        "    row = 100\n",
        "    column = 100\n",
        "    minLongitude = -73.97720629610636\n",
        "    minLatitude = 40.500087\n",
        "    maxLongitude = -72.816665\n",
        "    maxLatitude = 41.8\n",
        "\n",
        "    totalLongitude = maxLongitude - minLongitude\n",
        "    totalLatitude = maxLatitude - minLatitude\n",
        "        \n",
        "    assignedRow = 0\n",
        "    assignedColumn = 0\n",
        "\n",
        "    blockLength = totalLongitude/row \n",
        "\n",
        "    blockHeight = totalLatitude/column\n",
        "\n",
        "    for i in range(row):\n",
        "        if (longitude - minLongitude) > (blockLength * i):\n",
        "            assignedRow = i\n",
        "\n",
        "    for j in range(column):\n",
        "        if (latitude - minLatitude) > (blockHeight * j):\n",
        "            assignedColumn = j\n",
        "\n",
        "    return (assignedRow*(column+1)) + assignedColumn\n",
        "\n",
        "\n",
        "my_udf = udf(assignBlock, IntegerType())\n",
        "\n",
        "df1 = df1.withColumn(\"pickup_block\", my_udf(\"pickup_longitude\",\"pickup_latitude\"))\n",
        "df1 = df1.withColumn(\"dropoff_block\", my_udf(\"dropoff_longitude\",\"dropoff_latitude\"))"
      ]
    },
    {
      "cell_type": "markdown",
      "source": [
        "**Getting rid of unnecessary data**"
      ],
      "metadata": {
        "id": "AOGAIPLgOppX"
      }
    },
    {
      "cell_type": "code",
      "execution_count": null,
      "metadata": {
        "cell_id": "21ab47637bc64dd9b3f21dbf050e60e3",
        "deepnote_cell_type": "code",
        "deepnote_to_be_reexecuted": true,
        "execution_millis": 360440,
        "execution_start": 1671144019707,
        "source_hash": "e449fcd9",
        "tags": [],
        "id": "60bmAOzdHTtL",
        "outputId": "35514982-526f-454d-b0c3-36fc5b897fcd"
      },
      "outputs": [
        {
          "name": "stdout",
          "output_type": "stream",
          "text": [
            "+-----------------+-------------+-----------+-----------+----+------------+-------------+\n",
            "|trip_time_in_secs|trip_distance|fare_amount|day_of_week|hour|pickup_block|dropoff_block|\n",
            "+-----------------+-------------+-----------+-----------+----+------------+-------------+\n",
            "|              421|          1.3|        7.0|          5|  20|          18|           18|\n",
            "|              845|          2.7|       11.5|          7|  22|          19|           18|\n",
            "|              264|          1.0|        5.5|          4|  21|          19|           20|\n",
            "|              360|         1.69|        7.0|          5|   9|         121|          121|\n",
            "|              273|          0.6|        5.0|          6|   0|          19|           19|\n",
            "|              937|          9.0|       26.0|          1|  21|         929|           18|\n",
            "|              751|          4.3|       15.0|          6|   9|          19|           16|\n",
            "|              870|          4.4|       15.5|          5|   6|         422|          223|\n",
            "|              808|          2.7|       11.0|          5|  18|         223|          225|\n",
            "|              338|          1.3|        6.5|          4|  16|         223|          223|\n",
            "|              253|          0.5|        4.5|          6|  19|          19|           19|\n",
            "|              688|          2.8|       11.0|          1|  23|          21|           19|\n",
            "|              317|          1.1|        6.0|          5|  11|         121|          223|\n",
            "|              370|          0.8|        6.0|          2|  21|          20|           20|\n",
            "|              463|          1.6|        7.5|          5|   2|          17|           18|\n",
            "|             1328|          5.4|       20.0|          6|  22|          14|           19|\n",
            "|              651|          2.6|       11.5|          2|   0|          17|          117|\n",
            "|              795|          2.7|       12.0|          3|   9|         223|           20|\n",
            "|             1920|        11.01|       35.0|          3|  13|          12|           20|\n",
            "|              900|         2.51|       11.5|          6|  21|          17|           19|\n",
            "+-----------------+-------------+-----------+-----------+----+------------+-------------+\n",
            "only showing top 20 rows\n",
            "\n"
          ]
        }
      ],
      "source": [
        "df1 = df1.drop(*(\"pickup_longitude\",\n",
        "                \"pickup_latitude\",\n",
        "                \"dropoff_longitude\",\n",
        "                \"dropoff_latitude\"))\n",
        "df1.show()"
      ]
    },
    {
      "cell_type": "markdown",
      "metadata": {
        "cell_id": "c90d1df3a20944788d114bf46aff7b2a",
        "deepnote_app_coordinates": {
          "h": 5,
          "w": 12,
          "x": 0,
          "y": 211
        },
        "deepnote_cell_type": "text-cell-h2",
        "formattedRanges": [],
        "is_collapsed": false,
        "tags": [],
        "id": "vsjJ_5fyHTtL"
      },
      "source": [
        "## Exploratory Data Analysis"
      ]
    },
    {
      "cell_type": "markdown",
      "metadata": {
        "cell_id": "9ffbc150981c4fcdb9c81184dc9a9b46",
        "deepnote_app_coordinates": {
          "h": 5,
          "w": 12,
          "x": 0,
          "y": 217
        },
        "deepnote_cell_type": "text-cell-h3",
        "formattedRanges": [],
        "is_collapsed": false,
        "tags": [],
        "id": "IZjpQxqhHTtL"
      },
      "source": [
        "### (a) Schema of PySpark DataFrame"
      ]
    },
    {
      "cell_type": "code",
      "execution_count": null,
      "metadata": {
        "cell_id": "4a5e823e6c8e476d95f9505a957f5aa6",
        "deepnote_app_coordinates": {
          "h": 5,
          "w": 12,
          "x": 0,
          "y": 247
        },
        "deepnote_cell_type": "code",
        "deepnote_to_be_reexecuted": true,
        "execution_millis": 3,
        "execution_start": 1671144380232,
        "source_hash": "121838e7",
        "tags": [],
        "id": "T0Jtoa-XHTtL",
        "outputId": "8f9b6b4b-9439-4a10-a77d-5fc673a0405a"
      },
      "outputs": [
        {
          "name": "stdout",
          "output_type": "stream",
          "text": [
            "root\n",
            " |-- trip_time_in_secs: integer (nullable = true)\n",
            " |-- trip_distance: double (nullable = true)\n",
            " |-- fare_amount: double (nullable = true)\n",
            " |-- day_of_week: integer (nullable = true)\n",
            " |-- hour: integer (nullable = true)\n",
            " |-- pickup_block: integer (nullable = true)\n",
            " |-- dropoff_block: integer (nullable = true)\n",
            "\n"
          ]
        }
      ],
      "source": [
        "df1.printSchema()"
      ]
    },
    {
      "cell_type": "markdown",
      "metadata": {
        "cell_id": "dac2f4afa08c454a9885089e47b19e80",
        "deepnote_app_coordinates": {
          "h": 5,
          "w": 12,
          "x": 0,
          "y": 223
        },
        "deepnote_cell_type": "text-cell-h3",
        "formattedRanges": [],
        "is_collapsed": false,
        "tags": [],
        "id": "q5sKEeAnHTtL"
      },
      "source": [
        "### (b) Showing First five rows of the PySpark DataFrame"
      ]
    },
    {
      "cell_type": "code",
      "execution_count": null,
      "metadata": {
        "cell_id": "7905b0a5f262409eb9b31f31cb735d61",
        "deepnote_app_coordinates": {
          "h": 5,
          "w": 12,
          "x": 0,
          "y": 253
        },
        "deepnote_cell_type": "code",
        "deepnote_to_be_reexecuted": true,
        "execution_millis": 365109,
        "execution_start": 1671144380233,
        "source_hash": "e29f3c60",
        "tags": [],
        "id": "NVC1TdN4HTtL",
        "outputId": "d192780f-474e-4d1d-8219-7472426e1609"
      },
      "outputs": [
        {
          "name": "stdout",
          "output_type": "stream",
          "text": [
            "+-----------------+-------------+-----------+-----------+----+------------+-------------+\n",
            "|trip_time_in_secs|trip_distance|fare_amount|day_of_week|hour|pickup_block|dropoff_block|\n",
            "+-----------------+-------------+-----------+-----------+----+------------+-------------+\n",
            "|              421|          1.3|        7.0|          5|  20|          18|           18|\n",
            "|              845|          2.7|       11.5|          7|  22|          19|           18|\n",
            "|              264|          1.0|        5.5|          4|  21|          19|           20|\n",
            "|              360|         1.69|        7.0|          5|   9|         121|          121|\n",
            "|              273|          0.6|        5.0|          6|   0|          19|           19|\n",
            "+-----------------+-------------+-----------+-----------+----+------------+-------------+\n",
            "only showing top 5 rows\n",
            "\n"
          ]
        }
      ],
      "source": [
        "df1.show(5)"
      ]
    },
    {
      "cell_type": "markdown",
      "metadata": {
        "cell_id": "b4a2c992ce054bca936b6ba91dc68bef",
        "deepnote_app_coordinates": {
          "h": 5,
          "w": 12,
          "x": 0,
          "y": 235
        },
        "deepnote_cell_type": "text-cell-h3",
        "formattedRanges": [],
        "is_collapsed": false,
        "tags": [],
        "id": "a2EDa7txHTtM"
      },
      "source": [
        "### (c) Printing the shape of our PySpark DataFrame"
      ]
    },
    {
      "cell_type": "code",
      "execution_count": null,
      "metadata": {
        "cell_id": "8f76716ee2b84500b1bf82f65784de78",
        "deepnote_app_coordinates": {
          "h": 5,
          "w": 12,
          "x": 0,
          "y": 259
        },
        "deepnote_cell_type": "code",
        "deepnote_to_be_reexecuted": true,
        "execution_millis": 502085,
        "execution_start": 1671144745342,
        "source_hash": "918fcfbc",
        "tags": [],
        "id": "O5poq9e1HTtM",
        "outputId": "2bb92199-e9fa-4a22-bdd3-cd6ef66c6eee"
      },
      "outputs": [
        {
          "name": "stdout",
          "output_type": "stream",
          "text": [
            "1413131 , 7\n"
          ]
        }
      ],
      "source": [
        "print(df1.count(),\",\",len(df1.columns))"
      ]
    },
    {
      "cell_type": "markdown",
      "metadata": {
        "cell_id": "e51d256b3d164546a57f67c40a7ace46",
        "deepnote_app_coordinates": {
          "h": 5,
          "w": 12,
          "x": 0,
          "y": 241
        },
        "deepnote_cell_type": "text-cell-h3",
        "formattedRanges": [],
        "is_collapsed": false,
        "tags": [],
        "id": "o2_VoPF7HTtM"
      },
      "source": [
        "### (d) Statistical Properties of the PySpark DataFrame"
      ]
    },
    {
      "cell_type": "code",
      "execution_count": null,
      "metadata": {
        "cell_id": "2d2b2c87f0b842768fed2b81e1b9d5e3",
        "deepnote_app_coordinates": {
          "h": 5,
          "w": 12,
          "x": 0,
          "y": 265
        },
        "deepnote_cell_type": "code",
        "deepnote_to_be_reexecuted": true,
        "execution_millis": 4757888,
        "execution_start": 1671094280951,
        "source_hash": "e89ae0c9",
        "tags": [],
        "id": "2ZzS8fn_HTtM",
        "outputId": "95719fd2-b19a-4bb3-8c56-0e3cd2a5443a"
      },
      "outputs": [
        {
          "name": "stdout",
          "output_type": "stream",
          "text": [
            "+-------+-----------------+\n",
            "|summary|trip_time_in_secs|\n",
            "+-------+-----------------+\n",
            "|  count|          1413131|\n",
            "|   mean|660.6246618324841|\n",
            "| stddev|440.2157724211737|\n",
            "|    min|               60|\n",
            "|    max|            10320|\n",
            "+-------+-----------------+\n",
            "\n",
            "+-------+------------------+\n",
            "|summary|     trip_distance|\n",
            "+-------+------------------+\n",
            "|  count|           1413131|\n",
            "|   mean|2.5373506773257386|\n",
            "| stddev| 2.643096936759867|\n",
            "|    min|              0.01|\n",
            "|    max|              99.6|\n",
            "+-------+------------------+\n",
            "\n",
            "+-------+------------------+\n",
            "|summary|      pickup_block|\n",
            "+-------+------------------+\n",
            "|  count|           1413131|\n",
            "|   mean| 77.20364283283008|\n",
            "| stddev|194.51102741689604|\n",
            "|    min|                 0|\n",
            "|    max|              7593|\n",
            "+-------+------------------+\n",
            "\n",
            "+-------+-----------------+\n",
            "|summary|    dropoff_block|\n",
            "+-------+-----------------+\n",
            "|  count|          1413131|\n",
            "|   mean|83.66477771699864|\n",
            "| stddev|185.0035808524852|\n",
            "|    min|                0|\n",
            "|    max|             9615|\n",
            "+-------+-----------------+\n",
            "\n",
            "+-------+-----------------+\n",
            "|summary|      fare_amount|\n",
            "+-------+-----------------+\n",
            "|  count|          1413131|\n",
            "|   mean|10.82843407299111|\n",
            "| stddev|7.182585404253765|\n",
            "|    min|              2.5|\n",
            "|    max|            213.0|\n",
            "+-------+-----------------+\n",
            "\n",
            "+-------+------------------+\n",
            "|summary|       day_of_week|\n",
            "+-------+------------------+\n",
            "|  count|           1413131|\n",
            "|   mean| 4.124500842455512|\n",
            "| stddev|1.9137816719783416|\n",
            "|    min|                 1|\n",
            "|    max|                 7|\n",
            "+-------+------------------+\n",
            "\n",
            "+-------+------------------+\n",
            "|summary|              hour|\n",
            "+-------+------------------+\n",
            "|  count|           1413131|\n",
            "|   mean|13.590797314615559|\n",
            "| stddev| 6.402563933497101|\n",
            "|    min|                 0|\n",
            "|    max|                23|\n",
            "+-------+------------------+\n",
            "\n"
          ]
        }
      ],
      "source": [
        "df1.describe(['trip_time_in_secs']).show()\n",
        "df1.describe(['trip_distance']).show()\n",
        "df1.describe(['pickup_block']).show()\n",
        "df1.describe(['dropoff_block']).show()\n",
        "df1.describe(['fare_amount']).show()\n",
        "df1.describe(['day_of_week']).show()\n",
        "df1.describe(['hour']).show()"
      ]
    },
    {
      "cell_type": "markdown",
      "metadata": {
        "cell_id": "c9bf10b992224228996ca5848a319b9d",
        "deepnote_cell_type": "text-cell-h3",
        "formattedRanges": [],
        "is_collapsed": false,
        "tags": [],
        "id": "hMUzaApBHTtM"
      },
      "source": [
        "### (e) Visualizing Frequency of 'day_of_week' and 'hour' to look at trends"
      ]
    },
    {
      "cell_type": "code",
      "execution_count": null,
      "metadata": {
        "cell_id": "97649b780cb74823b8b6e3668a5160f7",
        "deepnote_cell_type": "code",
        "deepnote_to_be_reexecuted": true,
        "execution_millis": 198,
        "execution_start": 1671145247428,
        "source_hash": "e002d721",
        "tags": [],
        "id": "Uj01i4fTHTtM"
      },
      "outputs": [],
      "source": [
        "df_day = df1.cube(\"day_of_week\").count()\n",
        "\n",
        "df_day = df_day.dropna() # cube returns a duplicate null for each day of week"
      ]
    },
    {
      "cell_type": "code",
      "execution_count": null,
      "metadata": {
        "cell_id": "db2a32f365d840b68d54eb0cca28f783",
        "deepnote_cell_type": "code",
        "deepnote_to_be_reexecuted": true,
        "execution_millis": 526095,
        "execution_start": 1671145247634,
        "source_hash": "731ebb7d",
        "tags": [],
        "id": "WdK7-ZBDHTtN",
        "outputId": "a74659c5-051e-4d71-a28d-1043c55b631d"
      },
      "outputs": [
        {
          "data": {
            "image/png": "[encoded data removed]",
            "text/plain": [
              "<Figure size 640x480 with 1 Axes>"
            ]
          },
          "metadata": {},
          "output_type": "display_data"
        }
      ],
      "source": [
        "pd_day = df_day.toPandas()\n",
        "pd_day.plot(kind='barh', x='day_of_week', y='count', colormap='winter_r')\n",
        "plt.show()"
      ]
    },
    {
      "cell_type": "code",
      "execution_count": null,
      "metadata": {
        "cell_id": "c92fddce00ec42ac9bbcf8a08d3e4acb",
        "deepnote_cell_type": "code",
        "deepnote_to_be_reexecuted": true,
        "execution_millis": 87,
        "execution_start": 1671145773735,
        "source_hash": "321353b8",
        "tags": [],
        "id": "t6Vlze8jHTtN"
      },
      "outputs": [],
      "source": [
        "df_hour = df1.cube(\"hour\").count()\n",
        "\n",
        "df_hour = df_hour.dropna() # cube returns a duplicate null for each hour"
      ]
    },
    {
      "cell_type": "code",
      "execution_count": null,
      "metadata": {
        "cell_id": "96b695175d234013a2415cb40928a213",
        "deepnote_cell_type": "code",
        "deepnote_to_be_reexecuted": true,
        "execution_millis": 516398,
        "execution_start": 1671145773832,
        "source_hash": "ec29a2ef",
        "tags": [],
        "id": "icn8ArPeHTtN",
        "outputId": "b73ea15a-6c1f-4b0d-fb1b-e7557d711a41"
      },
      "outputs": [
        {
          "data": {
            "image/png": "[encoded data removed]",
            "text/plain": [
              "<Figure size 640x480 with 1 Axes>"
            ]
          },
          "metadata": {},
          "output_type": "display_data"
        }
      ],
      "source": [
        "pd_hour = df_hour.toPandas()\n",
        "pd_hour.plot(kind='barh', x='hour', y='count', colormap='copper_r')\n",
        "plt.show()"
      ]
    },
    {
      "cell_type": "markdown",
      "metadata": {
        "cell_id": "e47f631fab58457dae858a09f9cc5a1a",
        "deepnote_app_coordinates": {
          "h": 5,
          "w": 12,
          "x": 0,
          "y": 229
        },
        "deepnote_cell_type": "text-cell-h2",
        "formattedRanges": [],
        "is_collapsed": false,
        "tags": [],
        "id": "_h42GPP4HTtN"
      },
      "source": [
        "## Building Model"
      ]
    },
    {
      "cell_type": "markdown",
      "metadata": {
        "cell_id": "c1ad88ae6c8b4923960bfdff487008fd",
        "deepnote_app_coordinates": {
          "h": 5,
          "w": 12,
          "x": 0,
          "y": 106
        },
        "deepnote_cell_type": "text-cell-h3",
        "formattedRanges": [],
        "is_collapsed": false,
        "tags": [],
        "id": "pdwgttS_HTtN"
      },
      "source": [
        "### (a) Feature Scaling"
      ]
    },
    {
      "cell_type": "code",
      "execution_count": null,
      "metadata": {
        "cell_id": "d346d5320cc34cbc9d672e6a63a7ef7a",
        "deepnote_cell_type": "code",
        "deepnote_to_be_reexecuted": true,
        "execution_millis": 1859,
        "execution_start": 1671147247801,
        "source_hash": "96b16b1c",
        "tags": [],
        "id": "lCdvzcakHTtN",
        "outputId": "cde895b3-7cee-4dc0-a9df-78452ffcb484"
      },
      "outputs": [
        {
          "name": "stdout",
          "output_type": "stream",
          "text": [
            "shape of X:  (1413131, 5)\n",
            "shape of Y1:  (1413131,)\n",
            "shape of Y2:  (1413131,)\n"
          ]
        }
      ],
      "source": [
        "df2 = df1.toPandas()\n",
        "X = df2.drop(['trip_time_in_secs','fare_amount'], axis = 1)\n",
        "print('shape of X: ', X.shape)\n",
        "\n",
        "Y1 = df2['trip_time_in_secs']\n",
        "print('shape of Y1: ', Y1.shape)\n",
        "\n",
        "Y2 = df2['fare_amount']\n",
        "print('shape of Y2: ', Y2.shape)\n",
        "\n",
        "# Since we have 2 differenet predictions, we need to create two different Y sets for Trip Time \n",
        "# and for Trip Fare\n",
        "\n",
        "scaler = StandardScaler() # Using standard scaler to scale our features\n",
        "X = scaler.fit_transform(X)"
      ]
    },
    {
      "cell_type": "markdown",
      "metadata": {
        "cell_id": "75937465e4eb4ce08361b04214e558d5",
        "deepnote_app_coordinates": {
          "h": 5,
          "w": 12,
          "x": 0,
          "y": 112
        },
        "deepnote_cell_type": "text-cell-h3",
        "formattedRanges": [],
        "is_collapsed": false,
        "tags": [],
        "id": "jDubzcDkHTtO"
      },
      "source": [
        "### (b) Building Model for Predicting Trip Time (in seconds)"
      ]
    },
    {
      "cell_type": "markdown",
      "metadata": {
        "cell_id": "2d77b2d4e13946479c3f6c20709179f5",
        "deepnote_cell_type": "text-cell-p",
        "formattedRanges": [
          {
            "fromCodePoint": 0,
            "marks": {
              "bold": true
            },
            "toCodePoint": 79,
            "type": "marks"
          }
        ],
        "is_collapsed": false,
        "tags": [],
        "id": "SDV3joFxHTtO"
      },
      "source": [
        "**(b1) We will be splitting our Train and Test sets by 75% and 25% respectively.**"
      ]
    },
    {
      "cell_type": "code",
      "execution_count": null,
      "metadata": {
        "cell_id": "c907961f736745fc9dfe94039a30a0bd",
        "deepnote_cell_type": "code",
        "deepnote_to_be_reexecuted": true,
        "execution_millis": 1232,
        "execution_start": 1671147060917,
        "source_hash": "c59fcf65",
        "tags": [],
        "id": "vweUijpwHTtO"
      },
      "outputs": [],
      "source": [
        "model = LinearRegression()\n",
        "\n",
        "X_train, X_test, Y_train, Y_test = train_test_split(X, Y1, test_size=0.25, random_state=0)\n",
        "\n",
        "clf = model.fit(X_train, Y_train)\n",
        "Y_predict = clf.predict(X_test)"
      ]
    },
    {
      "cell_type": "markdown",
      "metadata": {
        "cell_id": "b636288ba670426a9d098ea9d8e5a7c5",
        "deepnote_cell_type": "text-cell-p",
        "formattedRanges": [
          {
            "fromCodePoint": 0,
            "marks": {
              "bold": true
            },
            "toCodePoint": 21,
            "type": "marks"
          }
        ],
        "is_collapsed": false,
        "tags": [],
        "id": "DwzuAmSnHTtO"
      },
      "source": [
        "**(b2) Reporting Scores**"
      ]
    },
    {
      "cell_type": "code",
      "execution_count": null,
      "metadata": {
        "cell_id": "12366a7af42f469090cce9bf88aeb8e6",
        "deepnote_cell_type": "code",
        "deepnote_to_be_reexecuted": true,
        "execution_millis": 202,
        "execution_start": 1671104806554,
        "source_hash": "702ba134",
        "tags": [],
        "id": "m4e9xGA7HTtO",
        "outputId": "32dce01e-c5d2-4341-85d9-35ac095dca4c"
      },
      "outputs": [
        {
          "name": "stdout",
          "output_type": "stream",
          "text": [
            "Model Train Accuracy (score): 0.5765169328187789\n",
            "Model Test Accuracy (score): 0.570103382353824\n",
            "Mean Absolute Error: 193.47521933592964\n",
            "Mean Squared Error: 83525.65859333686\n",
            "Root Mean Squared Error: 289.00805973767734\n",
            "R2: 0.570103382353824\n"
          ]
        }
      ],
      "source": [
        "print('Model Train Accuracy (score):', model.score(X_train, Y_train))\n",
        "print('Model Test Accuracy (score):', model.score(X_test, Y_test))\n",
        "print('Mean Absolute Error:', mean_absolute_error(Y_test, Y_predict))  \n",
        "print('Mean Squared Error:', mean_squared_error(Y_test, Y_predict))  \n",
        "print('Root Mean Squared Error:', np.sqrt(mean_squared_error(Y_test, Y_predict)))\n",
        "print('R2:',r2_score(Y_test, Y_predict))"
      ]
    },
    {
      "cell_type": "markdown",
      "metadata": {
        "cell_id": "25b2749efb364f0e8ca394419d78b179",
        "deepnote_cell_type": "text-cell-p",
        "formattedRanges": [
          {
            "fromCodePoint": 0,
            "marks": {
              "bold": true
            },
            "toCodePoint": 24,
            "type": "marks"
          }
        ],
        "is_collapsed": false,
        "tags": [],
        "id": "AysI7cy1HTtO"
      },
      "source": [
        "**(b3) Visualizing Results**"
      ]
    },
    {
      "cell_type": "code",
      "execution_count": null,
      "metadata": {
        "cell_id": "6d956cf14d244e148926895a6ec5d9f2",
        "deepnote_cell_type": "code",
        "deepnote_to_be_reexecuted": true,
        "execution_millis": 2436,
        "execution_start": 1671104809066,
        "source_hash": "eda833cf",
        "tags": [],
        "id": "2TOJ--PhHTtO",
        "outputId": "740dcf87-db24-4cd7-87ec-5e446140d2ca"
      },
      "outputs": [
        {
          "data": {
            "image/png": "[encoded data removed]",
            "text/plain": [
              "<Figure size 640x480 with 1 Axes>"
            ]
          },
          "metadata": {},
          "output_type": "display_data"
        }
      ],
      "source": [
        "plt.scatter(Y_test, Y_predict)\n",
        "plt.title(\"Results of Trip Time\")\n",
        "plt.xlabel(\"Real Value\")\n",
        "plt.ylabel(\"Prediction\")\n",
        "plt.show()"
      ]
    },
    {
      "cell_type": "markdown",
      "metadata": {
        "cell_id": "2c618978ff6f4869b8c54f665c2c6c6f",
        "deepnote_cell_type": "text-cell-h3",
        "formattedRanges": [],
        "is_collapsed": false,
        "tags": [],
        "id": "MDv7HnGjHTtP"
      },
      "source": [
        "### (c) Building Model for Predicting Trip Fare"
      ]
    },
    {
      "cell_type": "markdown",
      "metadata": {
        "cell_id": "48a67049596d434881877cc891641e39",
        "deepnote_cell_type": "text-cell-p",
        "formattedRanges": [
          {
            "fromCodePoint": 0,
            "marks": {
              "bold": true
            },
            "toCodePoint": 79,
            "type": "marks"
          }
        ],
        "is_collapsed": false,
        "tags": [],
        "id": "y6QwL6iEHTtP"
      },
      "source": [
        "**(c1) We will be splitting our Train and Test sets by 75% and 25% respectively.**"
      ]
    },
    {
      "cell_type": "code",
      "execution_count": null,
      "metadata": {
        "cell_id": "b4d641d67fb042458de7367346e146f8",
        "deepnote_cell_type": "code",
        "deepnote_to_be_reexecuted": true,
        "execution_millis": 1739,
        "execution_start": 1671104631431,
        "source_hash": "a106ea3a",
        "tags": [],
        "id": "4RIug31VHTtP"
      },
      "outputs": [],
      "source": [
        "# Using the same Linear Regression model defined in section (b1)\n",
        "\n",
        "X_train, X_test, Y_train, Y_test = train_test_split(X, Y2, test_size=0.25, random_state=0)\n",
        "\n",
        "clf = model.fit(X_train, Y_train)\n",
        "Y_predict = clf.predict(X_test)"
      ]
    },
    {
      "cell_type": "markdown",
      "metadata": {
        "cell_id": "9c7c9b6e534d42cea509339ebd48b42a",
        "deepnote_cell_type": "text-cell-p",
        "formattedRanges": [
          {
            "fromCodePoint": 0,
            "marks": {
              "bold": true
            },
            "toCodePoint": 21,
            "type": "marks"
          }
        ],
        "is_collapsed": false,
        "tags": [],
        "id": "zRJg8tBdHTtP"
      },
      "source": [
        "**(c2) Reporting Scores**"
      ]
    },
    {
      "cell_type": "code",
      "execution_count": null,
      "metadata": {
        "cell_id": "9f86e66c3bbc476fb9e5539d3ee9f5b4",
        "deepnote_cell_type": "code",
        "deepnote_to_be_reexecuted": true,
        "execution_millis": 288,
        "execution_start": 1671104633896,
        "source_hash": "702ba134",
        "tags": [],
        "id": "Myb5E9-oHTtP",
        "outputId": "ad011092-d181-4619-f6fd-107fdd2c28af"
      },
      "outputs": [
        {
          "name": "stdout",
          "output_type": "stream",
          "text": [
            "Model Train Accuracy (score): 0.8713617870581278\n",
            "Model Test Accuracy (score): 0.8684295807308419\n",
            "Mean Absolute Error: 1.2825764309139926\n",
            "Mean Squared Error: 6.818901423691352\n",
            "Root Mean Squared Error: 2.6113026296642357\n",
            "R2: 0.8684295807308419\n"
          ]
        }
      ],
      "source": [
        "print('Model Train Accuracy (score):', model.score(X_train, Y_train))\n",
        "print('Model Test Accuracy (score):', model.score(X_test, Y_test))\n",
        "print('Mean Absolute Error:', mean_absolute_error(Y_test, Y_predict))  \n",
        "print('Mean Squared Error:', mean_squared_error(Y_test, Y_predict))  \n",
        "print('Root Mean Squared Error:', np.sqrt(mean_squared_error(Y_test, Y_predict)))\n",
        "print('R2:',r2_score(Y_test, Y_predict))"
      ]
    },
    {
      "cell_type": "markdown",
      "metadata": {
        "cell_id": "0f7f1582a25445ce8714fa7dca6a425e",
        "deepnote_cell_type": "text-cell-p",
        "formattedRanges": [
          {
            "fromCodePoint": 0,
            "marks": {
              "bold": true
            },
            "toCodePoint": 49,
            "type": "marks"
          }
        ],
        "is_collapsed": false,
        "tags": [],
        "id": "ayqiLaUJHTtP"
      },
      "source": [
        "**(c3) Visualizing Results**"
      ]
    },
    {
      "cell_type": "code",
      "execution_count": null,
      "metadata": {
        "cell_id": "8bd038b6988e4399bdc3aab86c4bc241",
        "deepnote_cell_type": "code",
        "deepnote_to_be_reexecuted": true,
        "execution_millis": 2879,
        "execution_start": 1671104647971,
        "source_hash": "c60415ec",
        "tags": [],
        "id": "bwESYiMjHTtP",
        "outputId": "9ac35945-a3fd-48d3-989e-53567d12e97d"
      },
      "outputs": [
        {
          "data": {
            "image/png": "[encoded data removed]",
            "text/plain": [
              "<Figure size 640x480 with 1 Axes>"
            ]
          },
          "metadata": {},
          "output_type": "display_data"
        }
      ],
      "source": [
        "plt.scatter(Y_test, Y_predict)\n",
        "plt.title(\"Results of Trip Fare\")\n",
        "plt.xlabel(\"Real Value\")\n",
        "plt.ylabel(\"Prediction\")\n",
        "plt.show()"
      ]
    },
    {
      "cell_type": "markdown",
      "metadata": {
        "created_in_deepnote_cell": true,
        "deepnote_cell_type": "markdown",
        "tags": [],
        "id": "xHopUl3QHTtQ"
      },
      "source": [
        "<a style='text-decoration:none;line-height:16px;display:flex;color:#5B5B62;padding:10px;justify-content:end;' href='https://deepnote.com?utm_source=created-in-deepnote-cell&projectId=515b00f4-74b9-4ef1-bb9c-ca95866a3996' target=\"_blank\">\n",
        "<img alt='Created in deepnote.com' style='display:inline;max-height:16px;margin:0px;margin-right:7.5px;' src='data:image/svg+xml;base64,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' > </img>\n",
        "Created in <span style='font-weight:600;margin-left:4px;'>Deepnote</span></a>"
      ]
    }
  ],
  "metadata": {
    "deepnote": {},
    "deepnote_app_layout": "article",
    "deepnote_execution_queue": [],
    "deepnote_full_width": false,
    "deepnote_notebook_id": "71a7f314ee7742b0aa81bfc6473d1d60",
    "kernelspec": {
      "display_name": "Python 3 (ipykernel)",
      "language": "python",
      "name": "python3"
    },
    "language_info": {
      "codemirror_mode": {
        "name": "ipython",
        "version": 3
      },
      "file_extension": ".py",
      "mimetype": "text/x-python",
      "name": "python",
      "nbconvert_exporter": "python",
      "pygments_lexer": "ipython3",
      "version": "3.10.6"
    },
    "colab": {
      "provenance": []
    }
  },
  "nbformat": 4,
  "nbformat_minor": 0
}